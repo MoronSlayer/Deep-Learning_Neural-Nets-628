{
  "cells": [
    {
      "cell_type": "code",
      "execution_count": 1,
      "metadata": {
        "id": "E5Y0dlO1zuzR"
      },
      "outputs": [],
      "source": [
        "import matplotlib.pyplot as plt\n",
        "import numpy as np\n",
        "import pandas as pd"
      ]
    },
    {
      "cell_type": "code",
      "execution_count": 2,
      "metadata": {
        "colab": {
          "base_uri": "https://localhost:8080/",
          "height": 299
        },
        "id": "L9w2KjpVzuzS",
        "outputId": "2b30002b-2e0a-4f1d-883f-8c0aca49ae79"
      },
      "outputs": [
        {
          "output_type": "execute_result",
          "data": {
            "text/plain": [
              "         V1        V2        V3        V4        V5        V6        V7  \\\n",
              "0 -1.359807 -0.072781  2.536347  1.378155 -0.338321  0.462388  0.239599   \n",
              "1  1.191857  0.266151  0.166480  0.448154  0.060018 -0.082361 -0.078803   \n",
              "2 -1.358354 -1.340163  1.773209  0.379780 -0.503198  1.800499  0.791461   \n",
              "3 -0.966272 -0.185226  1.792993 -0.863291 -0.010309  1.247203  0.237609   \n",
              "4 -1.158233  0.877737  1.548718  0.403034 -0.407193  0.095921  0.592941   \n",
              "\n",
              "         V8        V9       V10  ...       V20       V21       V22       V23  \\\n",
              "0  0.098698  0.363787  0.090794  ...  0.251412 -0.018307  0.277838 -0.110474   \n",
              "1  0.085102 -0.255425 -0.166974  ... -0.069083 -0.225775 -0.638672  0.101288   \n",
              "2  0.247676 -1.514654  0.207643  ...  0.524980  0.247998  0.771679  0.909412   \n",
              "3  0.377436 -1.387024 -0.054952  ... -0.208038 -0.108300  0.005274 -0.190321   \n",
              "4 -0.270533  0.817739  0.753074  ...  0.408542 -0.009431  0.798278 -0.137458   \n",
              "\n",
              "        V24       V25       V26       V27       V28  Class  \n",
              "0  0.066928  0.128539 -0.189115  0.133558 -0.021053    0.0  \n",
              "1 -0.339846  0.167170  0.125895 -0.008983  0.014724    0.0  \n",
              "2 -0.689281 -0.327642 -0.139097 -0.055353 -0.059752    0.0  \n",
              "3 -1.175575  0.647376 -0.221929  0.062723  0.061458    0.0  \n",
              "4  0.141267 -0.206010  0.502292  0.219422  0.215153    0.0  \n",
              "\n",
              "[5 rows x 29 columns]"
            ],
            "text/html": [
              "\n",
              "  <div id=\"df-31949e8a-7bbe-4361-a3b7-298df7b0a68b\">\n",
              "    <div class=\"colab-df-container\">\n",
              "      <div>\n",
              "<style scoped>\n",
              "    .dataframe tbody tr th:only-of-type {\n",
              "        vertical-align: middle;\n",
              "    }\n",
              "\n",
              "    .dataframe tbody tr th {\n",
              "        vertical-align: top;\n",
              "    }\n",
              "\n",
              "    .dataframe thead th {\n",
              "        text-align: right;\n",
              "    }\n",
              "</style>\n",
              "<table border=\"1\" class=\"dataframe\">\n",
              "  <thead>\n",
              "    <tr style=\"text-align: right;\">\n",
              "      <th></th>\n",
              "      <th>V1</th>\n",
              "      <th>V2</th>\n",
              "      <th>V3</th>\n",
              "      <th>V4</th>\n",
              "      <th>V5</th>\n",
              "      <th>V6</th>\n",
              "      <th>V7</th>\n",
              "      <th>V8</th>\n",
              "      <th>V9</th>\n",
              "      <th>V10</th>\n",
              "      <th>...</th>\n",
              "      <th>V20</th>\n",
              "      <th>V21</th>\n",
              "      <th>V22</th>\n",
              "      <th>V23</th>\n",
              "      <th>V24</th>\n",
              "      <th>V25</th>\n",
              "      <th>V26</th>\n",
              "      <th>V27</th>\n",
              "      <th>V28</th>\n",
              "      <th>Class</th>\n",
              "    </tr>\n",
              "  </thead>\n",
              "  <tbody>\n",
              "    <tr>\n",
              "      <th>0</th>\n",
              "      <td>-1.359807</td>\n",
              "      <td>-0.072781</td>\n",
              "      <td>2.536347</td>\n",
              "      <td>1.378155</td>\n",
              "      <td>-0.338321</td>\n",
              "      <td>0.462388</td>\n",
              "      <td>0.239599</td>\n",
              "      <td>0.098698</td>\n",
              "      <td>0.363787</td>\n",
              "      <td>0.090794</td>\n",
              "      <td>...</td>\n",
              "      <td>0.251412</td>\n",
              "      <td>-0.018307</td>\n",
              "      <td>0.277838</td>\n",
              "      <td>-0.110474</td>\n",
              "      <td>0.066928</td>\n",
              "      <td>0.128539</td>\n",
              "      <td>-0.189115</td>\n",
              "      <td>0.133558</td>\n",
              "      <td>-0.021053</td>\n",
              "      <td>0.0</td>\n",
              "    </tr>\n",
              "    <tr>\n",
              "      <th>1</th>\n",
              "      <td>1.191857</td>\n",
              "      <td>0.266151</td>\n",
              "      <td>0.166480</td>\n",
              "      <td>0.448154</td>\n",
              "      <td>0.060018</td>\n",
              "      <td>-0.082361</td>\n",
              "      <td>-0.078803</td>\n",
              "      <td>0.085102</td>\n",
              "      <td>-0.255425</td>\n",
              "      <td>-0.166974</td>\n",
              "      <td>...</td>\n",
              "      <td>-0.069083</td>\n",
              "      <td>-0.225775</td>\n",
              "      <td>-0.638672</td>\n",
              "      <td>0.101288</td>\n",
              "      <td>-0.339846</td>\n",
              "      <td>0.167170</td>\n",
              "      <td>0.125895</td>\n",
              "      <td>-0.008983</td>\n",
              "      <td>0.014724</td>\n",
              "      <td>0.0</td>\n",
              "    </tr>\n",
              "    <tr>\n",
              "      <th>2</th>\n",
              "      <td>-1.358354</td>\n",
              "      <td>-1.340163</td>\n",
              "      <td>1.773209</td>\n",
              "      <td>0.379780</td>\n",
              "      <td>-0.503198</td>\n",
              "      <td>1.800499</td>\n",
              "      <td>0.791461</td>\n",
              "      <td>0.247676</td>\n",
              "      <td>-1.514654</td>\n",
              "      <td>0.207643</td>\n",
              "      <td>...</td>\n",
              "      <td>0.524980</td>\n",
              "      <td>0.247998</td>\n",
              "      <td>0.771679</td>\n",
              "      <td>0.909412</td>\n",
              "      <td>-0.689281</td>\n",
              "      <td>-0.327642</td>\n",
              "      <td>-0.139097</td>\n",
              "      <td>-0.055353</td>\n",
              "      <td>-0.059752</td>\n",
              "      <td>0.0</td>\n",
              "    </tr>\n",
              "    <tr>\n",
              "      <th>3</th>\n",
              "      <td>-0.966272</td>\n",
              "      <td>-0.185226</td>\n",
              "      <td>1.792993</td>\n",
              "      <td>-0.863291</td>\n",
              "      <td>-0.010309</td>\n",
              "      <td>1.247203</td>\n",
              "      <td>0.237609</td>\n",
              "      <td>0.377436</td>\n",
              "      <td>-1.387024</td>\n",
              "      <td>-0.054952</td>\n",
              "      <td>...</td>\n",
              "      <td>-0.208038</td>\n",
              "      <td>-0.108300</td>\n",
              "      <td>0.005274</td>\n",
              "      <td>-0.190321</td>\n",
              "      <td>-1.175575</td>\n",
              "      <td>0.647376</td>\n",
              "      <td>-0.221929</td>\n",
              "      <td>0.062723</td>\n",
              "      <td>0.061458</td>\n",
              "      <td>0.0</td>\n",
              "    </tr>\n",
              "    <tr>\n",
              "      <th>4</th>\n",
              "      <td>-1.158233</td>\n",
              "      <td>0.877737</td>\n",
              "      <td>1.548718</td>\n",
              "      <td>0.403034</td>\n",
              "      <td>-0.407193</td>\n",
              "      <td>0.095921</td>\n",
              "      <td>0.592941</td>\n",
              "      <td>-0.270533</td>\n",
              "      <td>0.817739</td>\n",
              "      <td>0.753074</td>\n",
              "      <td>...</td>\n",
              "      <td>0.408542</td>\n",
              "      <td>-0.009431</td>\n",
              "      <td>0.798278</td>\n",
              "      <td>-0.137458</td>\n",
              "      <td>0.141267</td>\n",
              "      <td>-0.206010</td>\n",
              "      <td>0.502292</td>\n",
              "      <td>0.219422</td>\n",
              "      <td>0.215153</td>\n",
              "      <td>0.0</td>\n",
              "    </tr>\n",
              "  </tbody>\n",
              "</table>\n",
              "<p>5 rows × 29 columns</p>\n",
              "</div>\n",
              "      <button class=\"colab-df-convert\" onclick=\"convertToInteractive('df-31949e8a-7bbe-4361-a3b7-298df7b0a68b')\"\n",
              "              title=\"Convert this dataframe to an interactive table.\"\n",
              "              style=\"display:none;\">\n",
              "        \n",
              "  <svg xmlns=\"http://www.w3.org/2000/svg\" height=\"24px\"viewBox=\"0 0 24 24\"\n",
              "       width=\"24px\">\n",
              "    <path d=\"M0 0h24v24H0V0z\" fill=\"none\"/>\n",
              "    <path d=\"M18.56 5.44l.94 2.06.94-2.06 2.06-.94-2.06-.94-.94-2.06-.94 2.06-2.06.94zm-11 1L8.5 8.5l.94-2.06 2.06-.94-2.06-.94L8.5 2.5l-.94 2.06-2.06.94zm10 10l.94 2.06.94-2.06 2.06-.94-2.06-.94-.94-2.06-.94 2.06-2.06.94z\"/><path d=\"M17.41 7.96l-1.37-1.37c-.4-.4-.92-.59-1.43-.59-.52 0-1.04.2-1.43.59L10.3 9.45l-7.72 7.72c-.78.78-.78 2.05 0 2.83L4 21.41c.39.39.9.59 1.41.59.51 0 1.02-.2 1.41-.59l7.78-7.78 2.81-2.81c.8-.78.8-2.07 0-2.86zM5.41 20L4 18.59l7.72-7.72 1.47 1.35L5.41 20z\"/>\n",
              "  </svg>\n",
              "      </button>\n",
              "      \n",
              "  <style>\n",
              "    .colab-df-container {\n",
              "      display:flex;\n",
              "      flex-wrap:wrap;\n",
              "      gap: 12px;\n",
              "    }\n",
              "\n",
              "    .colab-df-convert {\n",
              "      background-color: #E8F0FE;\n",
              "      border: none;\n",
              "      border-radius: 50%;\n",
              "      cursor: pointer;\n",
              "      display: none;\n",
              "      fill: #1967D2;\n",
              "      height: 32px;\n",
              "      padding: 0 0 0 0;\n",
              "      width: 32px;\n",
              "    }\n",
              "\n",
              "    .colab-df-convert:hover {\n",
              "      background-color: #E2EBFA;\n",
              "      box-shadow: 0px 1px 2px rgba(60, 64, 67, 0.3), 0px 1px 3px 1px rgba(60, 64, 67, 0.15);\n",
              "      fill: #174EA6;\n",
              "    }\n",
              "\n",
              "    [theme=dark] .colab-df-convert {\n",
              "      background-color: #3B4455;\n",
              "      fill: #D2E3FC;\n",
              "    }\n",
              "\n",
              "    [theme=dark] .colab-df-convert:hover {\n",
              "      background-color: #434B5C;\n",
              "      box-shadow: 0px 1px 3px 1px rgba(0, 0, 0, 0.15);\n",
              "      filter: drop-shadow(0px 1px 2px rgba(0, 0, 0, 0.3));\n",
              "      fill: #FFFFFF;\n",
              "    }\n",
              "  </style>\n",
              "\n",
              "      <script>\n",
              "        const buttonEl =\n",
              "          document.querySelector('#df-31949e8a-7bbe-4361-a3b7-298df7b0a68b button.colab-df-convert');\n",
              "        buttonEl.style.display =\n",
              "          google.colab.kernel.accessAllowed ? 'block' : 'none';\n",
              "\n",
              "        async function convertToInteractive(key) {\n",
              "          const element = document.querySelector('#df-31949e8a-7bbe-4361-a3b7-298df7b0a68b');\n",
              "          const dataTable =\n",
              "            await google.colab.kernel.invokeFunction('convertToInteractive',\n",
              "                                                     [key], {});\n",
              "          if (!dataTable) return;\n",
              "\n",
              "          const docLinkHtml = 'Like what you see? Visit the ' +\n",
              "            '<a target=\"_blank\" href=https://colab.research.google.com/notebooks/data_table.ipynb>data table notebook</a>'\n",
              "            + ' to learn more about interactive tables.';\n",
              "          element.innerHTML = '';\n",
              "          dataTable['output_type'] = 'display_data';\n",
              "          await google.colab.output.renderOutput(dataTable, element);\n",
              "          const docLink = document.createElement('div');\n",
              "          docLink.innerHTML = docLinkHtml;\n",
              "          element.appendChild(docLink);\n",
              "        }\n",
              "      </script>\n",
              "    </div>\n",
              "  </div>\n",
              "  "
            ]
          },
          "metadata": {},
          "execution_count": 2
        }
      ],
      "source": [
        "data=pd.read_csv(\"data1.csv\")\n",
        "data.head()"
      ]
    },
    {
      "cell_type": "code",
      "execution_count": 3,
      "metadata": {
        "colab": {
          "base_uri": "https://localhost:8080/"
        },
        "id": "pDlxdi7WzuzT",
        "outputId": "ccfd3335-190d-4e17-cce4-2ff3ec4a0aaf"
      },
      "outputs": [
        {
          "output_type": "execute_result",
          "data": {
            "text/plain": [
              "0.0      284315\n",
              "1.0         492\n",
              "492.0         1\n",
              "Name: Class, dtype: int64"
            ]
          },
          "metadata": {},
          "execution_count": 3
        }
      ],
      "source": [
        "# Highly Imbalanced Data\n",
        "data['Class'].value_counts()"
      ]
    },
    {
      "cell_type": "code",
      "execution_count": 4,
      "metadata": {
        "colab": {
          "base_uri": "https://localhost:8080/"
        },
        "id": "HRtVFEPKzuzU",
        "outputId": "e10f1669-adb0-4aa1-e86b-005f023045c5"
      },
      "outputs": [
        {
          "output_type": "stream",
          "name": "stdout",
          "text": [
            "<class 'pandas.core.frame.DataFrame'>\n",
            "RangeIndex: 284810 entries, 0 to 284809\n",
            "Data columns (total 29 columns):\n",
            " #   Column  Non-Null Count   Dtype  \n",
            "---  ------  --------------   -----  \n",
            " 0   V1      284807 non-null  float64\n",
            " 1   V2      284807 non-null  float64\n",
            " 2   V3      284807 non-null  float64\n",
            " 3   V4      284807 non-null  float64\n",
            " 4   V5      284807 non-null  float64\n",
            " 5   V6      284807 non-null  float64\n",
            " 6   V7      284807 non-null  float64\n",
            " 7   V8      284807 non-null  float64\n",
            " 8   V9      284807 non-null  float64\n",
            " 9   V10     284807 non-null  float64\n",
            " 10  V11     284807 non-null  float64\n",
            " 11  V12     284807 non-null  float64\n",
            " 12  V13     284807 non-null  float64\n",
            " 13  V14     284807 non-null  float64\n",
            " 14  V15     284807 non-null  float64\n",
            " 15  V16     284807 non-null  float64\n",
            " 16  V17     284807 non-null  float64\n",
            " 17  V18     284807 non-null  float64\n",
            " 18  V19     284807 non-null  float64\n",
            " 19  V20     284807 non-null  float64\n",
            " 20  V21     284807 non-null  float64\n",
            " 21  V22     284807 non-null  float64\n",
            " 22  V23     284807 non-null  float64\n",
            " 23  V24     284807 non-null  float64\n",
            " 24  V25     284807 non-null  float64\n",
            " 25  V26     284807 non-null  float64\n",
            " 26  V27     284807 non-null  float64\n",
            " 27  V28     284807 non-null  float64\n",
            " 28  Class   284808 non-null  float64\n",
            "dtypes: float64(29)\n",
            "memory usage: 63.0 MB\n"
          ]
        }
      ],
      "source": [
        "data.info()"
      ]
    },
    {
      "cell_type": "code",
      "execution_count": 5,
      "metadata": {
        "id": "C6HWyykuzuzV"
      },
      "outputs": [],
      "source": [
        "data = data.dropna()"
      ]
    },
    {
      "cell_type": "code",
      "execution_count": 6,
      "metadata": {
        "id": "oj0-GdCHzuzV"
      },
      "outputs": [],
      "source": [
        "n = len(data)\n",
        "train_data = data.iloc[:int(n * 0.8),:]\n",
        "test_data = data.iloc[int(n * 0.8):,:]"
      ]
    },
    {
      "cell_type": "code",
      "execution_count": 7,
      "metadata": {
        "colab": {
          "base_uri": "https://localhost:8080/"
        },
        "id": "vzU12TGxzuzV",
        "outputId": "b3169c2b-b141-4783-e9c7-d94bfa6c4fd1"
      },
      "outputs": [
        {
          "output_type": "stream",
          "name": "stdout",
          "text": [
            "227845 56962\n"
          ]
        }
      ],
      "source": [
        "print(len(train_data), len(test_data))"
      ]
    },
    {
      "cell_type": "code",
      "execution_count": 8,
      "metadata": {
        "colab": {
          "base_uri": "https://localhost:8080/"
        },
        "id": "Ku0xi1c0zuzW",
        "outputId": "05d793ee-8f02-4908-dfa6-dc937ceec1a9"
      },
      "outputs": [
        {
          "output_type": "stream",
          "name": "stdout",
          "text": [
            "(227845, 28) (227845,) (56962, 28) (56962,)\n"
          ]
        }
      ],
      "source": [
        "x_train = train_data.iloc[:, :28].values\n",
        "y_train = train_data.iloc[:, 28].values\n",
        "\n",
        "x_test = test_data.iloc[:, :28].values\n",
        "y_test = test_data.iloc[:, 28].values\n",
        "\n",
        "x_test_0 = test_data[test_data['Class'] == 0].iloc[:, :28].values\n",
        "x_test_1 = test_data[test_data['Class'] == 1].iloc[:, :28].values\n",
        "\n",
        "print(x_train.shape, y_train.shape, x_test.shape, y_test.shape)"
      ]
    },
    {
      "cell_type": "markdown",
      "metadata": {
        "id": "apu8Dp_wzuzX"
      },
      "source": [
        "## Simple Autoencoder "
      ]
    },
    {
      "cell_type": "code",
      "execution_count": 9,
      "metadata": {
        "id": "18XOeQG5zuzY"
      },
      "outputs": [],
      "source": [
        "from keras.layers import Input, Dense\n",
        "from keras.models import Model, Sequential"
      ]
    },
    {
      "cell_type": "code",
      "execution_count": 10,
      "metadata": {
        "colab": {
          "base_uri": "https://localhost:8080/"
        },
        "id": "sjTUaOzUzuzZ",
        "outputId": "8737694f-ddd0-4bdd-e18c-d05bec8dbd3e"
      },
      "outputs": [
        {
          "output_type": "stream",
          "name": "stdout",
          "text": [
            "Compression factor: 14.0\n",
            "Model: \"sequential\"\n",
            "_________________________________________________________________\n",
            " Layer (type)                Output Shape              Param #   \n",
            "=================================================================\n",
            " dense (Dense)               (None, 2)                 58        \n",
            "                                                                 \n",
            " dense_1 (Dense)             (None, 28)                84        \n",
            "                                                                 \n",
            "=================================================================\n",
            "Total params: 142\n",
            "Trainable params: 142\n",
            "Non-trainable params: 0\n",
            "_________________________________________________________________\n"
          ]
        }
      ],
      "source": [
        "input_dim = x_train.shape[1]\n",
        "encoding_dim = 2\n",
        "\n",
        "compression_factor = float(input_dim) / encoding_dim\n",
        "print(\"Compression factor: %s\" % compression_factor)\n",
        "\n",
        "autoencoder = Sequential()\n",
        "autoencoder.add(\n",
        "    Dense(encoding_dim, input_shape=(input_dim,), activation='relu')\n",
        ")\n",
        "autoencoder.add(\n",
        "    Dense(input_dim, activation='sigmoid')\n",
        ")\n",
        "\n",
        "autoencoder.summary()\n"
      ]
    },
    {
      "cell_type": "code",
      "execution_count": 11,
      "metadata": {
        "colab": {
          "base_uri": "https://localhost:8080/"
        },
        "id": "QrkVAz0nzuzZ",
        "outputId": "90d98235-9daa-4d6f-ceb5-4766d4812d94"
      },
      "outputs": [
        {
          "output_type": "stream",
          "name": "stdout",
          "text": [
            "Model: \"model\"\n",
            "_________________________________________________________________\n",
            " Layer (type)                Output Shape              Param #   \n",
            "=================================================================\n",
            " input_1 (InputLayer)        [(None, 28)]              0         \n",
            "                                                                 \n",
            " dense (Dense)               (None, 2)                 58        \n",
            "                                                                 \n",
            "=================================================================\n",
            "Total params: 58\n",
            "Trainable params: 58\n",
            "Non-trainable params: 0\n",
            "_________________________________________________________________\n"
          ]
        }
      ],
      "source": [
        "input_img = Input(shape=(input_dim,))\n",
        "encoder_layer = autoencoder.layers[0]\n",
        "encoder = Model(input_img, encoder_layer(input_img))\n",
        "\n",
        "encoder.summary()"
      ]
    },
    {
      "cell_type": "code",
      "execution_count": 12,
      "metadata": {
        "colab": {
          "base_uri": "https://localhost:8080/"
        },
        "id": "9R-_2_ymzuza",
        "outputId": "51ea79b4-ae72-4980-b5de-39bcc8675025"
      },
      "outputs": [
        {
          "output_type": "stream",
          "name": "stdout",
          "text": [
            "Epoch 1/50\n",
            "891/891 [==============================] - 3s 2ms/step - loss: 0.0760 - val_loss: -0.3199\n",
            "Epoch 2/50\n",
            "891/891 [==============================] - 2s 2ms/step - loss: -1.6529 - val_loss: -1.7986\n",
            "Epoch 3/50\n",
            "891/891 [==============================] - 2s 2ms/step - loss: -4.6178 - val_loss: -4.0925\n",
            "Epoch 4/50\n",
            "891/891 [==============================] - 2s 2ms/step - loss: -8.8155 - val_loss: -7.1083\n",
            "Epoch 5/50\n",
            "891/891 [==============================] - 2s 2ms/step - loss: -13.9271 - val_loss: -10.6478\n",
            "Epoch 6/50\n",
            "891/891 [==============================] - 2s 2ms/step - loss: -19.9041 - val_loss: -14.8155\n",
            "Epoch 7/50\n",
            "891/891 [==============================] - 2s 2ms/step - loss: -26.8732 - val_loss: -19.5691\n",
            "Epoch 8/50\n",
            "891/891 [==============================] - 2s 2ms/step - loss: -34.6923 - val_loss: -24.8403\n",
            "Epoch 9/50\n",
            "891/891 [==============================] - 2s 2ms/step - loss: -43.3898 - val_loss: -30.7581\n",
            "Epoch 10/50\n",
            "891/891 [==============================] - 2s 2ms/step - loss: -52.9227 - val_loss: -37.1114\n",
            "Epoch 11/50\n",
            "891/891 [==============================] - 2s 2ms/step - loss: -63.2662 - val_loss: -44.0333\n",
            "Epoch 12/50\n",
            "891/891 [==============================] - 2s 2ms/step - loss: -74.4945 - val_loss: -51.5504\n",
            "Epoch 13/50\n",
            "891/891 [==============================] - 2s 2ms/step - loss: -86.6969 - val_loss: -59.6295\n",
            "Epoch 14/50\n",
            "891/891 [==============================] - 2s 2ms/step - loss: -99.7436 - val_loss: -68.2688\n",
            "Epoch 15/50\n",
            "891/891 [==============================] - 2s 2ms/step - loss: -113.4079 - val_loss: -77.2426\n",
            "Epoch 16/50\n",
            "891/891 [==============================] - 2s 2ms/step - loss: -127.8562 - val_loss: -86.8550\n",
            "Epoch 17/50\n",
            "891/891 [==============================] - 2s 2ms/step - loss: -143.1829 - val_loss: -96.9518\n",
            "Epoch 18/50\n",
            "891/891 [==============================] - 2s 2ms/step - loss: -159.3916 - val_loss: -107.6262\n",
            "Epoch 19/50\n",
            "891/891 [==============================] - 2s 2ms/step - loss: -176.2963 - val_loss: -118.7115\n",
            "Epoch 20/50\n",
            "891/891 [==============================] - 2s 2ms/step - loss: -194.0496 - val_loss: -130.5302\n",
            "Epoch 21/50\n",
            "891/891 [==============================] - 2s 2ms/step - loss: -212.9042 - val_loss: -142.8439\n",
            "Epoch 22/50\n",
            "891/891 [==============================] - 2s 2ms/step - loss: -232.2180 - val_loss: -155.4994\n",
            "Epoch 23/50\n",
            "891/891 [==============================] - 2s 2ms/step - loss: -252.1755 - val_loss: -168.6904\n",
            "Epoch 24/50\n",
            "891/891 [==============================] - 2s 2ms/step - loss: -273.0892 - val_loss: -182.3713\n",
            "Epoch 25/50\n",
            "891/891 [==============================] - 2s 2ms/step - loss: -294.7962 - val_loss: -196.6131\n",
            "Epoch 26/50\n",
            "891/891 [==============================] - 2s 2ms/step - loss: -317.4494 - val_loss: -211.5542\n",
            "Epoch 27/50\n",
            "891/891 [==============================] - 2s 2ms/step - loss: -340.8517 - val_loss: -226.7590\n",
            "Epoch 28/50\n",
            "891/891 [==============================] - 2s 2ms/step - loss: -364.9243 - val_loss: -242.5849\n",
            "Epoch 29/50\n",
            "891/891 [==============================] - 2s 2ms/step - loss: -389.7568 - val_loss: -258.7888\n",
            "Epoch 30/50\n",
            "891/891 [==============================] - 2s 2ms/step - loss: -415.1712 - val_loss: -275.4560\n",
            "Epoch 31/50\n",
            "891/891 [==============================] - 2s 2ms/step - loss: -441.4850 - val_loss: -292.7197\n",
            "Epoch 32/50\n",
            "891/891 [==============================] - 2s 2ms/step - loss: -468.9057 - val_loss: -310.7219\n",
            "Epoch 33/50\n",
            "891/891 [==============================] - 2s 2ms/step - loss: -496.9948 - val_loss: -328.8910\n",
            "Epoch 34/50\n",
            "891/891 [==============================] - 2s 2ms/step - loss: -525.8424 - val_loss: -347.7536\n",
            "Epoch 35/50\n",
            "891/891 [==============================] - 2s 2ms/step - loss: -555.3463 - val_loss: -367.1083\n",
            "Epoch 36/50\n",
            "891/891 [==============================] - 2s 2ms/step - loss: -585.8661 - val_loss: -386.9684\n",
            "Epoch 37/50\n",
            "891/891 [==============================] - 2s 2ms/step - loss: -617.2401 - val_loss: -407.4854\n",
            "Epoch 38/50\n",
            "891/891 [==============================] - 2s 2ms/step - loss: -649.1175 - val_loss: -428.2525\n",
            "Epoch 39/50\n",
            "891/891 [==============================] - 2s 2ms/step - loss: -681.7941 - val_loss: -449.7771\n",
            "Epoch 40/50\n",
            "891/891 [==============================] - 2s 2ms/step - loss: -715.5237 - val_loss: -471.6637\n",
            "Epoch 41/50\n",
            "891/891 [==============================] - 2s 2ms/step - loss: -749.9340 - val_loss: -494.1001\n",
            "Epoch 42/50\n",
            "891/891 [==============================] - 2s 2ms/step - loss: -785.2130 - val_loss: -516.9919\n",
            "Epoch 43/50\n",
            "891/891 [==============================] - 2s 2ms/step - loss: -821.2663 - val_loss: -540.4954\n",
            "Epoch 44/50\n",
            "891/891 [==============================] - 2s 2ms/step - loss: -858.2217 - val_loss: -564.4576\n",
            "Epoch 45/50\n",
            "891/891 [==============================] - 2s 2ms/step - loss: -895.7299 - val_loss: -588.7454\n",
            "Epoch 46/50\n",
            "891/891 [==============================] - 2s 2ms/step - loss: -933.8205 - val_loss: -613.5587\n",
            "Epoch 47/50\n",
            "891/891 [==============================] - 2s 2ms/step - loss: -972.8754 - val_loss: -639.0739\n",
            "Epoch 48/50\n",
            "891/891 [==============================] - 2s 2ms/step - loss: -1012.7809 - val_loss: -665.1785\n",
            "Epoch 49/50\n",
            "891/891 [==============================] - 2s 2ms/step - loss: -1053.4178 - val_loss: -691.5240\n",
            "Epoch 50/50\n",
            "891/891 [==============================] - 2s 2ms/step - loss: -1094.9246 - val_loss: -718.6606\n"
          ]
        },
        {
          "output_type": "execute_result",
          "data": {
            "text/plain": [
              "<keras.callbacks.History at 0x7faecc0c2790>"
            ]
          },
          "metadata": {},
          "execution_count": 12
        }
      ],
      "source": [
        "autoencoder.compile(optimizer='adam', loss='binary_crossentropy')\n",
        "autoencoder.fit(x_train, x_train,\n",
        "                epochs=50,\n",
        "                batch_size=256,\n",
        "                shuffle=True,\n",
        "                validation_data=(x_test, x_test))\n"
      ]
    },
    {
      "cell_type": "code",
      "execution_count": 13,
      "metadata": {
        "id": "7IVhOCAdzuza"
      },
      "outputs": [],
      "source": [
        "decoded_imgs = autoencoder.predict(x_test)"
      ]
    },
    {
      "cell_type": "code",
      "execution_count": 14,
      "metadata": {
        "id": "BJCATPAtzuza"
      },
      "outputs": [],
      "source": [
        "loss = []\n",
        "n = len(decoded_imgs)\n",
        "for i in range(n):\n",
        "        mse = np.mean((x_test[i] - decoded_imgs[i])**2 )\n",
        "        if mse :\n",
        "            loss.append(mse)"
      ]
    },
    {
      "cell_type": "code",
      "execution_count": 15,
      "metadata": {
        "colab": {
          "base_uri": "https://localhost:8080/",
          "height": 592
        },
        "id": "UfWl_5Zbzuzb",
        "outputId": "ff50a568-bf99-4896-c95f-83a2f19ff39a"
      },
      "outputs": [
        {
          "output_type": "display_data",
          "data": {
            "text/plain": [
              "<Figure size 720x720 with 1 Axes>"
            ],
            "image/png": "[encoded data removed]"
          },
          "metadata": {
            "needs_background": "light"
          }
        }
      ],
      "source": [
        "loss.sort()\n",
        "fig, ax = plt.subplots(figsize =(10, 10))\n",
        "ax.boxplot(loss)\n",
        " \n",
        "plt.show()"
      ]
    },
    {
      "cell_type": "code",
      "execution_count": 16,
      "metadata": {
        "colab": {
          "base_uri": "https://localhost:8080/",
          "height": 592
        },
        "id": "jgVDzbtUzuzb",
        "outputId": "a2a0be23-d283-4882-c687-76ee6fecba93"
      },
      "outputs": [
        {
          "output_type": "display_data",
          "data": {
            "text/plain": [
              "<Figure size 720x720 with 1 Axes>"
            ],
            "image/png": "[encoded data removed]"
          },
          "metadata": {
            "needs_background": "light"
          }
        }
      ],
      "source": [
        "# Histogram with bins upto the mean. The loss is skewed.\n",
        "fig, ax = plt.subplots(figsize =(10, 10))\n",
        "ax.hist(loss, bins = np.linspace(np.min(loss), np.mean(loss), num = 100))\n",
        " \n",
        "plt.show()"
      ]
    },
    {
      "cell_type": "code",
      "execution_count": 17,
      "metadata": {
        "id": "dYNw0rMyzuzb"
      },
      "outputs": [],
      "source": [
        "encoded_imgs_1 = encoder.predict(x_test_1)\n",
        "encoded_imgs_0 = encoder.predict(x_test_0)"
      ]
    },
    {
      "cell_type": "code",
      "execution_count": 18,
      "metadata": {
        "colab": {
          "base_uri": "https://localhost:8080/",
          "height": 487
        },
        "id": "HzOvEGoSzuzb",
        "outputId": "f5f137a8-0a04-49d7-ca12-5f4e996d041e"
      },
      "outputs": [
        {
          "output_type": "display_data",
          "data": {
            "text/plain": [
              "<Figure size 1008x576 with 2 Axes>"
            ],
            "image/png": "[encoded data removed]"
          },
          "metadata": {
            "needs_background": "light"
          }
        }
      ],
      "source": [
        "plt.figure(figsize=(14, 8))\n",
        "plt.scatter(encoded_imgs_0 [:, 0], encoded_imgs_0 [:, 1],color= 'green')\n",
        "plt.scatter(encoded_imgs_1 [:, 0], encoded_imgs_1 [:, 1],color= 'red')\n",
        "\n",
        "plt.colorbar()\n",
        "plt.legend([\"Label 0\", \"Label 1\"], loc=0, frameon=True)\n",
        "plt.show()"
      ]
    },
    {
      "cell_type": "code",
      "execution_count": 19,
      "metadata": {
        "colab": {
          "base_uri": "https://localhost:8080/"
        },
        "id": "AcN7CyrNzuzc",
        "outputId": "68ce19d9-96ec-4436-a4ca-9e94d218a64d"
      },
      "outputs": [
        {
          "output_type": "stream",
          "name": "stdout",
          "text": [
            "MEAN MSE: 1.0685130309622846\n"
          ]
        }
      ],
      "source": [
        "print(\"MEAN MSE: {}\".format(np.mean(loss)))"
      ]
    },
    {
      "cell_type": "markdown",
      "metadata": {
        "id": "99futPtyzuzc"
      },
      "source": [
        "## Autoencoder with 3 layers"
      ]
    },
    {
      "cell_type": "code",
      "execution_count": 20,
      "metadata": {
        "colab": {
          "base_uri": "https://localhost:8080/"
        },
        "id": "WMPQPyclzuzc",
        "outputId": "2489a09d-02fd-48e6-c4ba-ec8db6c14adb"
      },
      "outputs": [
        {
          "output_type": "stream",
          "name": "stdout",
          "text": [
            "Model: \"sequential_1\"\n",
            "_________________________________________________________________\n",
            " Layer (type)                Output Shape              Param #   \n",
            "=================================================================\n",
            " dense_2 (Dense)             (None, 8)                 232       \n",
            "                                                                 \n",
            " dense_3 (Dense)             (None, 4)                 36        \n",
            "                                                                 \n",
            " dense_4 (Dense)             (None, 2)                 10        \n",
            "                                                                 \n",
            " dense_5 (Dense)             (None, 4)                 12        \n",
            "                                                                 \n",
            " dense_6 (Dense)             (None, 8)                 40        \n",
            "                                                                 \n",
            " dense_7 (Dense)             (None, 28)                252       \n",
            "                                                                 \n",
            "=================================================================\n",
            "Total params: 582\n",
            "Trainable params: 582\n",
            "Non-trainable params: 0\n",
            "_________________________________________________________________\n"
          ]
        }
      ],
      "source": [
        "autoencoder = Sequential()\n",
        "\n",
        "# Encoder Layers\n",
        "autoencoder.add(Dense(4 * encoding_dim, input_shape=(input_dim,), activation='relu'))\n",
        "autoencoder.add(Dense(2 * encoding_dim, activation='relu'))\n",
        "autoencoder.add(Dense(encoding_dim, activation='relu'))\n",
        "\n",
        "# Decoder Layers\n",
        "autoencoder.add(Dense(2 * encoding_dim, activation='relu'))\n",
        "autoencoder.add(Dense(4 * encoding_dim, activation='relu'))\n",
        "autoencoder.add(Dense(input_dim, activation='sigmoid'))\n",
        "\n",
        "autoencoder.summary()"
      ]
    },
    {
      "cell_type": "code",
      "execution_count": 21,
      "metadata": {
        "colab": {
          "base_uri": "https://localhost:8080/"
        },
        "id": "wuthyHy5zuzd",
        "outputId": "e6371bcb-afe0-443d-f616-1a6f7a28cd7a"
      },
      "outputs": [
        {
          "output_type": "stream",
          "name": "stdout",
          "text": [
            "Model: \"model_1\"\n",
            "_________________________________________________________________\n",
            " Layer (type)                Output Shape              Param #   \n",
            "=================================================================\n",
            " input_2 (InputLayer)        [(None, 28)]              0         \n",
            "                                                                 \n",
            " dense_2 (Dense)             (None, 8)                 232       \n",
            "                                                                 \n",
            " dense_3 (Dense)             (None, 4)                 36        \n",
            "                                                                 \n",
            " dense_4 (Dense)             (None, 2)                 10        \n",
            "                                                                 \n",
            "=================================================================\n",
            "Total params: 278\n",
            "Trainable params: 278\n",
            "Non-trainable params: 0\n",
            "_________________________________________________________________\n"
          ]
        }
      ],
      "source": [
        "input_img = Input(shape=(input_dim,))\n",
        "encoder_layer1 = autoencoder.layers[0]\n",
        "encoder_layer2 = autoencoder.layers[1]\n",
        "encoder_layer3 = autoencoder.layers[2]\n",
        "encoder = Model(input_img, encoder_layer3(encoder_layer2(encoder_layer1(input_img))))\n",
        "\n",
        "encoder.summary()\n"
      ]
    },
    {
      "cell_type": "code",
      "execution_count": 22,
      "metadata": {
        "colab": {
          "base_uri": "https://localhost:8080/"
        },
        "id": "2H1CiiyKzuzd",
        "outputId": "ba3506e5-1721-4e18-c81b-c14757de7437"
      },
      "outputs": [
        {
          "output_type": "stream",
          "name": "stdout",
          "text": [
            "Model: \"model_2\"\n",
            "_________________________________________________________________\n",
            " Layer (type)                Output Shape              Param #   \n",
            "=================================================================\n",
            " input_3 (InputLayer)        [(None, 2)]               0         \n",
            "                                                                 \n",
            " dense_5 (Dense)             (None, 4)                 12        \n",
            "                                                                 \n",
            " dense_6 (Dense)             (None, 8)                 40        \n",
            "                                                                 \n",
            " dense_7 (Dense)             (None, 28)                252       \n",
            "                                                                 \n",
            "=================================================================\n",
            "Total params: 304\n",
            "Trainable params: 304\n",
            "Non-trainable params: 0\n",
            "_________________________________________________________________\n"
          ]
        }
      ],
      "source": [
        "encoded_input = Input(shape=(encoding_dim,))\n",
        "decoder_layer1=autoencoder.layers[-3]\n",
        "decoder_layer2=autoencoder.layers[-2]\n",
        "decoder_layer3=autoencoder.layers[-1]\n",
        "decoder=Model(encoded_input, decoder_layer3(decoder_layer2(decoder_layer1(encoded_input))))\n",
        "decoder.summary()"
      ]
    },
    {
      "cell_type": "code",
      "execution_count": 23,
      "metadata": {
        "id": "dLfK_YT0zuzd"
      },
      "outputs": [],
      "source": [
        "def decoder(encoded_input):\n",
        "    h=Dense(inter_encoding_dim, activation='relu')(encoded_input)\n",
        "    decoded= Dense(input_dim, activation='sigmoid')(h)\n",
        "    return decoded"
      ]
    },
    {
      "cell_type": "code",
      "execution_count": 24,
      "metadata": {
        "colab": {
          "base_uri": "https://localhost:8080/"
        },
        "id": "4lm-4VnGzuzd",
        "outputId": "d18bd875-e43f-4198-c32c-37aa9defe70f"
      },
      "outputs": [
        {
          "output_type": "stream",
          "name": "stdout",
          "text": [
            "Epoch 1/50\n",
            "891/891 [==============================] - 6s 6ms/step - loss: -1267.5728 - val_loss: -6398.5161\n",
            "Epoch 2/50\n",
            "891/891 [==============================] - 4s 5ms/step - loss: -143313.3750 - val_loss: -332905.9688\n",
            "Epoch 3/50\n",
            "891/891 [==============================] - 5s 5ms/step - loss: -1745866.2500 - val_loss: -2735955.2500\n",
            "Epoch 4/50\n",
            "891/891 [==============================] - 4s 4ms/step - loss: -8589118.0000 - val_loss: -10680930.0000\n",
            "Epoch 5/50\n",
            "891/891 [==============================] - 2s 3ms/step - loss: -27546462.0000 - val_loss: -30459940.0000\n",
            "Epoch 6/50\n",
            "891/891 [==============================] - 2s 2ms/step - loss: -68402976.0000 - val_loss: -69501256.0000\n",
            "Epoch 7/50\n",
            "891/891 [==============================] - 2s 3ms/step - loss: -143264208.0000 - val_loss: -136911168.0000\n",
            "Epoch 8/50\n",
            "891/891 [==============================] - 2s 3ms/step - loss: -268679616.0000 - val_loss: -248021664.0000\n",
            "Epoch 9/50\n",
            "891/891 [==============================] - 2s 2ms/step - loss: -467152288.0000 - val_loss: -417341824.0000\n",
            "Epoch 10/50\n",
            "891/891 [==============================] - 2s 2ms/step - loss: -756498496.0000 - val_loss: -658119296.0000\n",
            "Epoch 11/50\n",
            "891/891 [==============================] - 2s 2ms/step - loss: -1176436736.0000 - val_loss: -1006599552.0000\n",
            "Epoch 12/50\n",
            "891/891 [==============================] - 2s 3ms/step - loss: -1765916672.0000 - val_loss: -1484807168.0000\n",
            "Epoch 13/50\n",
            "891/891 [==============================] - 3s 3ms/step - loss: -2560265984.0000 - val_loss: -2119418240.0000\n",
            "Epoch 14/50\n",
            "891/891 [==============================] - 2s 2ms/step - loss: -3602513408.0000 - val_loss: -2943193856.0000\n",
            "Epoch 15/50\n",
            "891/891 [==============================] - 2s 2ms/step - loss: -4924793856.0000 - val_loss: -3979247104.0000\n",
            "Epoch 16/50\n",
            "891/891 [==============================] - 2s 2ms/step - loss: -6623021568.0000 - val_loss: -5318861312.0000\n",
            "Epoch 17/50\n",
            "891/891 [==============================] - 2s 3ms/step - loss: -8760269824.0000 - val_loss: -6985235968.0000\n",
            "Epoch 18/50\n",
            "891/891 [==============================] - 2s 2ms/step - loss: -11469876224.0000 - val_loss: -9097106432.0000\n",
            "Epoch 19/50\n",
            "891/891 [==============================] - 2s 2ms/step - loss: -14817533952.0000 - val_loss: -11641203712.0000\n",
            "Epoch 20/50\n",
            "891/891 [==============================] - 3s 3ms/step - loss: -18841083904.0000 - val_loss: -14734216192.0000\n",
            "Epoch 21/50\n",
            "891/891 [==============================] - 2s 2ms/step - loss: -23639388160.0000 - val_loss: -18342782976.0000\n",
            "Epoch 22/50\n",
            "891/891 [==============================] - 2s 2ms/step - loss: -29373153280.0000 - val_loss: -22730866688.0000\n",
            "Epoch 23/50\n",
            "891/891 [==============================] - 2s 2ms/step - loss: -36288380928.0000 - val_loss: -27942621184.0000\n",
            "Epoch 24/50\n",
            "891/891 [==============================] - 2s 2ms/step - loss: -44377686016.0000 - val_loss: -33996122112.0000\n",
            "Epoch 25/50\n",
            "891/891 [==============================] - 2s 2ms/step - loss: -53725655040.0000 - val_loss: -41020252160.0000\n",
            "Epoch 26/50\n",
            "891/891 [==============================] - 2s 3ms/step - loss: -64603979776.0000 - val_loss: -49155219456.0000\n",
            "Epoch 27/50\n",
            "891/891 [==============================] - 3s 3ms/step - loss: -77427392512.0000 - val_loss: -58791776256.0000\n",
            "Epoch 28/50\n",
            "891/891 [==============================] - 2s 2ms/step - loss: -92136660992.0000 - val_loss: -69615902720.0000\n",
            "Epoch 29/50\n",
            "891/891 [==============================] - 2s 2ms/step - loss: -108926410752.0000 - val_loss: -82117959680.0000\n",
            "Epoch 30/50\n",
            "891/891 [==============================] - 2s 2ms/step - loss: -128317816832.0000 - val_loss: -96438001664.0000\n",
            "Epoch 31/50\n",
            "891/891 [==============================] - 2s 2ms/step - loss: -150179381248.0000 - val_loss: -112561217536.0000\n",
            "Epoch 32/50\n",
            "891/891 [==============================] - 2s 2ms/step - loss: -174900346880.0000 - val_loss: -130743418880.0000\n",
            "Epoch 33/50\n",
            "891/891 [==============================] - 2s 2ms/step - loss: -203107860480.0000 - val_loss: -151574380544.0000\n",
            "Epoch 34/50\n",
            "891/891 [==============================] - 2s 2ms/step - loss: -235167186944.0000 - val_loss: -175106850816.0000\n",
            "Epoch 35/50\n",
            "891/891 [==============================] - 2s 2ms/step - loss: -270718582784.0000 - val_loss: -200941666304.0000\n",
            "Epoch 36/50\n",
            "891/891 [==============================] - 2s 2ms/step - loss: -310453305344.0000 - val_loss: -230092292096.0000\n",
            "Epoch 37/50\n",
            "891/891 [==============================] - 2s 2ms/step - loss: -354620145664.0000 - val_loss: -262176817152.0000\n",
            "Epoch 38/50\n",
            "891/891 [==============================] - 2s 2ms/step - loss: -403402817536.0000 - val_loss: -297799385088.0000\n",
            "Epoch 39/50\n",
            "891/891 [==============================] - 2s 2ms/step - loss: -457758769152.0000 - val_loss: -337346625536.0000\n",
            "Epoch 40/50\n",
            "891/891 [==============================] - 2s 2ms/step - loss: -517868683264.0000 - val_loss: -381016014848.0000\n",
            "Epoch 41/50\n",
            "891/891 [==============================] - 2s 2ms/step - loss: -584570503168.0000 - val_loss: -429549092864.0000\n",
            "Epoch 42/50\n",
            "891/891 [==============================] - 3s 3ms/step - loss: -657658937344.0000 - val_loss: -482296954880.0000\n",
            "Epoch 43/50\n",
            "891/891 [==============================] - 2s 2ms/step - loss: -737999388672.0000 - val_loss: -540498821120.0000\n",
            "Epoch 44/50\n",
            "891/891 [==============================] - 3s 3ms/step - loss: -826779303936.0000 - val_loss: -605196320768.0000\n",
            "Epoch 45/50\n",
            "891/891 [==============================] - 2s 2ms/step - loss: -923782545408.0000 - val_loss: -674571419648.0000\n",
            "Epoch 46/50\n",
            "891/891 [==============================] - 2s 2ms/step - loss: -1030036193280.0000 - val_loss: -751709257728.0000\n",
            "Epoch 47/50\n",
            "891/891 [==============================] - 2s 3ms/step - loss: -1146234994688.0000 - val_loss: -834632220672.0000\n",
            "Epoch 48/50\n",
            "891/891 [==============================] - 2s 2ms/step - loss: -1271538384896.0000 - val_loss: -924544008192.0000\n",
            "Epoch 49/50\n",
            "891/891 [==============================] - 2s 2ms/step - loss: -1407516672000.0000 - val_loss: -1022731157504.0000\n",
            "Epoch 50/50\n",
            "891/891 [==============================] - 2s 2ms/step - loss: -1556845953024.0000 - val_loss: -1130673733632.0000\n"
          ]
        },
        {
          "output_type": "execute_result",
          "data": {
            "text/plain": [
              "<keras.callbacks.History at 0x7faeca8578d0>"
            ]
          },
          "metadata": {},
          "execution_count": 24
        }
      ],
      "source": [
        "autoencoder.compile(optimizer='adam', loss='binary_crossentropy')\n",
        "autoencoder.fit(x_train, x_train,\n",
        "                epochs=50,\n",
        "                batch_size=256,\n",
        "                shuffle=True,\n",
        "                validation_data=(x_test, x_test))"
      ]
    },
    {
      "cell_type": "code",
      "execution_count": null,
      "metadata": {
        "id": "dDbuMcLhzuzd"
      },
      "outputs": [],
      "source": [
        "decoded_imgs = autoencoder.predict(x_test)"
      ]
    },
    {
      "cell_type": "code",
      "execution_count": null,
      "metadata": {
        "id": "rB5YRG9Mzuze"
      },
      "outputs": [],
      "source": [
        "loss = []\n",
        "n = len(decoded_imgs)\n",
        "for i in range(n):\n",
        "        mse = np.mean((x_test[i] - decoded_imgs[i])**2 )\n",
        "        if mse :\n",
        "            loss.append(mse)"
      ]
    },
    {
      "cell_type": "code",
      "execution_count": null,
      "metadata": {
        "id": "PF2z_HzUzuze",
        "outputId": "8ccc06c9-ce96-4e96-ca8a-1f22793d4091"
      },
      "outputs": [
        {
          "data": {
            "image/png": "[encoded data removed]",
            "text/plain": [
              "<Figure size 720x720 with 1 Axes>"
            ]
          },
          "metadata": {
            "needs_background": "light"
          },
          "output_type": "display_data"
        }
      ],
      "source": [
        "loss.sort()\n",
        "fig, ax = plt.subplots(figsize =(10, 10))\n",
        "ax.boxplot(loss)\n",
        " \n",
        "plt.show()"
      ]
    },
    {
      "cell_type": "code",
      "execution_count": null,
      "metadata": {
        "id": "wnCs85NSzuze",
        "outputId": "c37d0ba8-b165-4b5e-8438-01e48f8110f2"
      },
      "outputs": [
        {
          "data": {
            "image/png": "[encoded data removed]",
            "text/plain": [
              "<Figure size 720x720 with 1 Axes>"
            ]
          },
          "metadata": {
            "needs_background": "light"
          },
          "output_type": "display_data"
        }
      ],
      "source": [
        "# Histogram with bins upto the mean. The loss is skewed.\n",
        "fig, ax = plt.subplots(figsize =(10, 10))\n",
        "ax.hist(loss, bins = np.linspace(np.min(loss), np.mean(loss), num = 100))\n",
        " \n",
        "plt.show()"
      ]
    },
    {
      "cell_type": "code",
      "execution_count": null,
      "metadata": {
        "id": "0UjwZ4Aszuze"
      },
      "outputs": [],
      "source": [
        "encoded_imgs_1 = encoder.predict(x_test_1)\n",
        "encoded_imgs_0 = encoder.predict(x_test_0)"
      ]
    },
    {
      "cell_type": "code",
      "execution_count": null,
      "metadata": {
        "id": "UMW8aj1Bzuze",
        "outputId": "3cd4575c-5ae9-48aa-a958-31966803e9f1"
      },
      "outputs": [
        {
          "data": {
            "image/png": "[encoded data removed]",
            "text/plain": [
              "<Figure size 1008x576 with 2 Axes>"
            ]
          },
          "metadata": {
            "needs_background": "light"
          },
          "output_type": "display_data"
        }
      ],
      "source": [
        "plt.figure(figsize=(14, 8))\n",
        "plt.scatter(encoded_imgs_0 [:, 0], encoded_imgs_0 [:, 1],color= 'green')\n",
        "plt.scatter(encoded_imgs_1 [:, 0], encoded_imgs_1 [:, 1],color= 'red')\n",
        "\n",
        "plt.colorbar()\n",
        "plt.legend([\"Label 0\", \"Label 1\"], loc=0, frameon=True)\n",
        "plt.show()"
      ]
    },
    {
      "cell_type": "code",
      "execution_count": null,
      "metadata": {
        "id": "om7XFbnnzuzf",
        "outputId": "a23541aa-7ec7-4ecc-e671-bd491c63f63c"
      },
      "outputs": [
        {
          "name": "stdout",
          "output_type": "stream",
          "text": [
            "MEAN MSE: 1.1318417142588495\n"
          ]
        }
      ],
      "source": [
        "print(\"MEAN MSE: {}\".format(np.mean(loss)))"
      ]
    },
    {
      "cell_type": "markdown",
      "metadata": {
        "id": "zh4jf8eEzuzf"
      },
      "source": [
        "### The MSE of the Simple Autoencoder is less than that of the Deep Autoencoder. Since the data is not too complex, the deep Autoencoder is overfitting. We can also see from the scatterplots that the Simple AE is able to form clusters better than that of Deep AE."
      ]
    },
    {
      "cell_type": "code",
      "execution_count": null,
      "metadata": {
        "id": "NcWqxQHozuzf"
      },
      "outputs": [],
      "source": [
        ""
      ]
    }
  ],
  "metadata": {
    "kernelspec": {
      "display_name": "Python 3 (ipykernel)",
      "language": "python",
      "name": "python3"
    },
    "language_info": {
      "codemirror_mode": {
        "name": "ipython",
        "version": 3
      },
      "file_extension": ".py",
      "mimetype": "text/x-python",
      "name": "python",
      "nbconvert_exporter": "python",
      "pygments_lexer": "ipython3",
      "version": "3.9.5"
    },
    "colab": {
      "name": "HW 10 part-2 EE 628 .ipynb",
      "provenance": []
    }
  },
  "nbformat": 4,
  "nbformat_minor": 0
}