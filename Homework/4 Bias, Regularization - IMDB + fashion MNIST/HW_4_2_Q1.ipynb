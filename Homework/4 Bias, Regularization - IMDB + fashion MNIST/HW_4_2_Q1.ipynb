{
  "nbformat": 4,
  "nbformat_minor": 0,
  "metadata": {
    "colab": {
      "name": "HW 4.2-Q1.ipynb",
      "provenance": [],
      "collapsed_sections": []
    },
    "kernelspec": {
      "name": "python3",
      "display_name": "Python 3"
    },
    "language_info": {
      "name": "python"
    }
  },
  "cells": [
    {
      "cell_type": "code",
      "execution_count": null,
      "metadata": {
        "id": "dBA5EFpTVdwa"
      },
      "outputs": [],
      "source": [
        "from keras.datasets import imdb \n",
        "import numpy as np\n",
        "from keras import models\n",
        "from keras import layers\n",
        "from tensorflow.keras import optimizers\n",
        "from keras import losses\n",
        "from keras import metrics\n",
        "import matplotlib.pyplot as plt"
      ]
    },
    {
      "cell_type": "code",
      "source": [
        "(train_data, train_labels),(test_data, test_labels) = imdb.load_data( num_words=10000)"
      ],
      "metadata": {
        "id": "gskjz6AAWqh_"
      },
      "execution_count": null,
      "outputs": []
    },
    {
      "cell_type": "code",
      "source": [
        "train_labels[0:20]"
      ],
      "metadata": {
        "colab": {
          "base_uri": "https://localhost:8080/"
        },
        "id": "iUCy7E2iWru9",
        "outputId": "59921667-d37f-40f3-dcab-e5a300bfc287"
      },
      "execution_count": null,
      "outputs": [
        {
          "output_type": "execute_result",
          "data": {
            "text/plain": [
              "array([1, 0, 0, 1, 0, 0, 1, 0, 1, 0, 1, 0, 0, 0, 0, 0, 1, 1, 0, 1])"
            ]
          },
          "metadata": {},
          "execution_count": 3
        }
      ]
    },
    {
      "cell_type": "code",
      "source": [
        "max([max(sequence) for sequence in train_data])"
      ],
      "metadata": {
        "colab": {
          "base_uri": "https://localhost:8080/"
        },
        "id": "5SpOEGuyWzEC",
        "outputId": "3044d82d-b4bc-43f4-e3a5-4afc6e8d6578"
      },
      "execution_count": null,
      "outputs": [
        {
          "output_type": "execute_result",
          "data": {
            "text/plain": [
              "9999"
            ]
          },
          "metadata": {},
          "execution_count": 4
        }
      ]
    },
    {
      "cell_type": "code",
      "source": [
        "import numpy as np\n",
        "def vectorize_sequences(sequences, dimension=10000):\n",
        "    results = np.zeros((len(sequences), dimension))\n",
        "    for i, sequence in enumerate(sequences):\n",
        "        results[i, sequence] = 1.\n",
        "    return results\n"
      ],
      "metadata": {
        "id": "bTwPmp_sXOlt"
      },
      "execution_count": null,
      "outputs": []
    },
    {
      "cell_type": "code",
      "source": [
        "x_train = vectorize_sequences(train_data) \n",
        "x_test = vectorize_sequences(test_data)\n",
        "\n",
        "y_train = np.asarray(train_labels).astype('float32')\n",
        "y_test = np.asarray(test_labels).astype('float32')"
      ],
      "metadata": {
        "id": "aSIDmpLcYFhR"
      },
      "execution_count": null,
      "outputs": []
    },
    {
      "cell_type": "markdown",
      "source": [
        "# Hyper-parameter: **relu** activation function | Neural Networks "
      ],
      "metadata": {
        "id": "q3aJCpfl2Y4e"
      }
    },
    {
      "cell_type": "markdown",
      "source": [
        "## Model #1 :  3 layer Neural Network | 16 hidden units"
      ],
      "metadata": {
        "id": "CjKacutbZlj4"
      }
    },
    {
      "cell_type": "code",
      "source": [
        "model_1 = models.Sequential()\n",
        "model_1.add(layers.Dense(16, activation='relu', input_shape=(10000,)))\n",
        "model_1.add(layers.Dense(16, activation='relu'))\n",
        "model_1.add(layers.Dense(1, activation='sigmoid'))"
      ],
      "metadata": {
        "id": "4fO62YWFYL8L"
      },
      "execution_count": null,
      "outputs": []
    },
    {
      "cell_type": "code",
      "source": [
        "model_1.summary()"
      ],
      "metadata": {
        "colab": {
          "base_uri": "https://localhost:8080/"
        },
        "id": "tb7UbwdSY_6-",
        "outputId": "071cf499-4bbd-4d1d-993d-844c87e76ca0"
      },
      "execution_count": null,
      "outputs": [
        {
          "output_type": "stream",
          "name": "stdout",
          "text": [
            "Model: \"sequential\"\n",
            "_________________________________________________________________\n",
            " Layer (type)                Output Shape              Param #   \n",
            "=================================================================\n",
            " dense (Dense)               (None, 16)                160016    \n",
            "                                                                 \n",
            " dense_1 (Dense)             (None, 16)                272       \n",
            "                                                                 \n",
            " dense_2 (Dense)             (None, 1)                 17        \n",
            "                                                                 \n",
            "=================================================================\n",
            "Total params: 160,305\n",
            "Trainable params: 160,305\n",
            "Non-trainable params: 0\n",
            "_________________________________________________________________\n"
          ]
        }
      ]
    },
    {
      "cell_type": "markdown",
      "source": [
        "## Model #2 : 5 layer Neural Net | 16 hidden units"
      ],
      "metadata": {
        "id": "TSTUo6A4ZtUi"
      }
    },
    {
      "cell_type": "code",
      "source": [
        "model_2 = models.Sequential()\n",
        "model_2.add(layers.Dense(16, activation='relu', input_shape=(10000,)))\n",
        "model_2.add(layers.Dense(16, activation='relu'))\n",
        "model_2.add(layers.Dense(16, activation='relu'))\n",
        "model_2.add(layers.Dense(16, activation='relu'))\n",
        "model_2.add(layers.Dense(1, activation='sigmoid'))"
      ],
      "metadata": {
        "id": "GdWLQ2dWYbn1"
      },
      "execution_count": null,
      "outputs": []
    },
    {
      "cell_type": "code",
      "source": [
        "model_2.summary()"
      ],
      "metadata": {
        "colab": {
          "base_uri": "https://localhost:8080/"
        },
        "id": "-3tbgSxgiuoX",
        "outputId": "7f8c77e9-e319-4ab8-9e63-80e44b198321"
      },
      "execution_count": null,
      "outputs": [
        {
          "output_type": "stream",
          "name": "stdout",
          "text": [
            "Model: \"sequential_1\"\n",
            "_________________________________________________________________\n",
            " Layer (type)                Output Shape              Param #   \n",
            "=================================================================\n",
            " dense_3 (Dense)             (None, 16)                160016    \n",
            "                                                                 \n",
            " dense_4 (Dense)             (None, 16)                272       \n",
            "                                                                 \n",
            " dense_5 (Dense)             (None, 16)                272       \n",
            "                                                                 \n",
            " dense_6 (Dense)             (None, 16)                272       \n",
            "                                                                 \n",
            " dense_7 (Dense)             (None, 1)                 17        \n",
            "                                                                 \n",
            "=================================================================\n",
            "Total params: 160,849\n",
            "Trainable params: 160,849\n",
            "Non-trainable params: 0\n",
            "_________________________________________________________________\n"
          ]
        }
      ]
    },
    {
      "cell_type": "markdown",
      "source": [
        "## Model #3 :  3 layer Neural net with 32 hidden units\n",
        "\n",
        "\n"
      ],
      "metadata": {
        "id": "6JiQOOMdZ7aX"
      }
    },
    {
      "cell_type": "code",
      "source": [
        "model_3 = models.Sequential()\n",
        "model_3.add(layers.Dense(32, activation='relu', input_shape=(10000,)))\n",
        "model_3.add(layers.Dense(32, activation='relu'))\n",
        "model_3.add(layers.Dense(1, activation='sigmoid'))"
      ],
      "metadata": {
        "id": "N7v0QAthY6lc"
      },
      "execution_count": null,
      "outputs": []
    },
    {
      "cell_type": "code",
      "source": [
        "model_3.summary()"
      ],
      "metadata": {
        "colab": {
          "base_uri": "https://localhost:8080/"
        },
        "id": "g1g7Fn6Oiw39",
        "outputId": "77ca56f3-bd19-4977-f96b-8ede74ab03e5"
      },
      "execution_count": null,
      "outputs": [
        {
          "output_type": "stream",
          "name": "stdout",
          "text": [
            "Model: \"sequential_2\"\n",
            "_________________________________________________________________\n",
            " Layer (type)                Output Shape              Param #   \n",
            "=================================================================\n",
            " dense_8 (Dense)             (None, 32)                320032    \n",
            "                                                                 \n",
            " dense_9 (Dense)             (None, 32)                1056      \n",
            "                                                                 \n",
            " dense_10 (Dense)            (None, 1)                 33        \n",
            "                                                                 \n",
            "=================================================================\n",
            "Total params: 321,121\n",
            "Trainable params: 321,121\n",
            "Non-trainable params: 0\n",
            "_________________________________________________________________\n"
          ]
        }
      ]
    },
    {
      "cell_type": "code",
      "source": [
        "x_val = x_train[:10000]\n",
        "partial_x_train = x_train[10000:]\n",
        "y_val = y_train[:10000]\n",
        "partial_y_train = y_train[10000:]"
      ],
      "metadata": {
        "id": "v3CSUOm2nmR4"
      },
      "execution_count": null,
      "outputs": []
    },
    {
      "cell_type": "code",
      "source": [
        "model_1.compile(optimizer='rmsprop',\n",
        "              loss='binary_crossentropy',\n",
        "              metrics=['acc'])\n",
        "\n",
        "history = model_1.fit(partial_x_train,\n",
        "                    partial_y_train,\n",
        "                    epochs=20,\n",
        "                    batch_size=512,\n",
        "                    validation_data=(x_val, y_val))\n",
        "\n",
        "history_dict = history.history\n",
        "history_dict.keys()\n"
      ],
      "metadata": {
        "colab": {
          "base_uri": "https://localhost:8080/"
        },
        "id": "5b9C7N2FnoD8",
        "outputId": "3c9f704f-7084-421c-929b-ef7134f8220d"
      },
      "execution_count": null,
      "outputs": [
        {
          "output_type": "stream",
          "name": "stdout",
          "text": [
            "Epoch 1/20\n",
            "30/30 [==============================] - 2s 31ms/step - loss: 0.5108 - acc: 0.7724 - val_loss: 0.3753 - val_acc: 0.8767\n",
            "Epoch 2/20\n",
            "30/30 [==============================] - 1s 24ms/step - loss: 0.2949 - acc: 0.9066 - val_loss: 0.3001 - val_acc: 0.8886\n",
            "Epoch 3/20\n",
            "30/30 [==============================] - 1s 22ms/step - loss: 0.2161 - acc: 0.9299 - val_loss: 0.2816 - val_acc: 0.8888\n",
            "Epoch 4/20\n",
            "30/30 [==============================] - 1s 22ms/step - loss: 0.1699 - acc: 0.9460 - val_loss: 0.2767 - val_acc: 0.8878\n",
            "Epoch 5/20\n",
            "30/30 [==============================] - 1s 22ms/step - loss: 0.1361 - acc: 0.9565 - val_loss: 0.3133 - val_acc: 0.8777\n",
            "Epoch 6/20\n",
            "30/30 [==============================] - 1s 22ms/step - loss: 0.1116 - acc: 0.9674 - val_loss: 0.3483 - val_acc: 0.8707\n",
            "Epoch 7/20\n",
            "30/30 [==============================] - 1s 22ms/step - loss: 0.0924 - acc: 0.9735 - val_loss: 0.3214 - val_acc: 0.8822\n",
            "Epoch 8/20\n",
            "30/30 [==============================] - 1s 22ms/step - loss: 0.0759 - acc: 0.9788 - val_loss: 0.3566 - val_acc: 0.8754\n",
            "Epoch 9/20\n",
            "30/30 [==============================] - 1s 23ms/step - loss: 0.0616 - acc: 0.9847 - val_loss: 0.3798 - val_acc: 0.8748\n",
            "Epoch 10/20\n",
            "30/30 [==============================] - 1s 22ms/step - loss: 0.0507 - acc: 0.9875 - val_loss: 0.4013 - val_acc: 0.8713\n",
            "Epoch 11/20\n",
            "30/30 [==============================] - 1s 21ms/step - loss: 0.0392 - acc: 0.9915 - val_loss: 0.4208 - val_acc: 0.8747\n",
            "Epoch 12/20\n",
            "30/30 [==============================] - 1s 23ms/step - loss: 0.0308 - acc: 0.9940 - val_loss: 0.4646 - val_acc: 0.8694\n",
            "Epoch 13/20\n",
            "30/30 [==============================] - 1s 22ms/step - loss: 0.0277 - acc: 0.9940 - val_loss: 0.4798 - val_acc: 0.8739\n",
            "Epoch 14/20\n",
            "30/30 [==============================] - 1s 23ms/step - loss: 0.0212 - acc: 0.9957 - val_loss: 0.5184 - val_acc: 0.8696\n",
            "Epoch 15/20\n",
            "30/30 [==============================] - 1s 22ms/step - loss: 0.0166 - acc: 0.9972 - val_loss: 0.5414 - val_acc: 0.8687\n",
            "Epoch 16/20\n",
            "30/30 [==============================] - 1s 21ms/step - loss: 0.0094 - acc: 0.9997 - val_loss: 0.6089 - val_acc: 0.8654\n",
            "Epoch 17/20\n",
            "30/30 [==============================] - 1s 22ms/step - loss: 0.0146 - acc: 0.9969 - val_loss: 0.6113 - val_acc: 0.8693\n",
            "Epoch 18/20\n",
            "30/30 [==============================] - 1s 21ms/step - loss: 0.0053 - acc: 0.9998 - val_loss: 0.6403 - val_acc: 0.8668\n",
            "Epoch 19/20\n",
            "30/30 [==============================] - 1s 21ms/step - loss: 0.0104 - acc: 0.9976 - val_loss: 0.6703 - val_acc: 0.8654\n",
            "Epoch 20/20\n",
            "30/30 [==============================] - 1s 22ms/step - loss: 0.0033 - acc: 0.9999 - val_loss: 0.7069 - val_acc: 0.8638\n"
          ]
        },
        {
          "output_type": "execute_result",
          "data": {
            "text/plain": [
              "dict_keys(['loss', 'acc', 'val_loss', 'val_acc'])"
            ]
          },
          "metadata": {},
          "execution_count": 14
        }
      ]
    },
    {
      "cell_type": "code",
      "source": [
        "model_2.compile(optimizer='rmsprop',\n",
        "              loss='binary_crossentropy',\n",
        "              metrics=['acc'])\n",
        "\n",
        "history2 = model_2.fit(partial_x_train,\n",
        "                    partial_y_train,\n",
        "                    epochs=20,\n",
        "                    batch_size=512,\n",
        "                    validation_data=(x_val, y_val))\n",
        "\n",
        "\n",
        "history2_dict = history2.history\n",
        "history2_dict.keys()"
      ],
      "metadata": {
        "colab": {
          "base_uri": "https://localhost:8080/"
        },
        "id": "jaeYRS3ByNMC",
        "outputId": "935e3b04-be35-42fc-a8f0-c3d92d25257c"
      },
      "execution_count": null,
      "outputs": [
        {
          "output_type": "stream",
          "name": "stdout",
          "text": [
            "Epoch 1/20\n",
            "30/30 [==============================] - 2s 30ms/step - loss: 0.5640 - acc: 0.7521 - val_loss: 0.4301 - val_acc: 0.8573\n",
            "Epoch 2/20\n",
            "30/30 [==============================] - 1s 22ms/step - loss: 0.3260 - acc: 0.8995 - val_loss: 0.3365 - val_acc: 0.8625\n",
            "Epoch 3/20\n",
            "30/30 [==============================] - 1s 22ms/step - loss: 0.2197 - acc: 0.9283 - val_loss: 0.2857 - val_acc: 0.8876\n",
            "Epoch 4/20\n",
            "30/30 [==============================] - 1s 22ms/step - loss: 0.1672 - acc: 0.9408 - val_loss: 0.3249 - val_acc: 0.8750\n",
            "Epoch 5/20\n",
            "30/30 [==============================] - 1s 22ms/step - loss: 0.1324 - acc: 0.9551 - val_loss: 0.3063 - val_acc: 0.8840\n",
            "Epoch 6/20\n",
            "30/30 [==============================] - 1s 22ms/step - loss: 0.1092 - acc: 0.9634 - val_loss: 0.3215 - val_acc: 0.8826\n",
            "Epoch 7/20\n",
            "30/30 [==============================] - 1s 22ms/step - loss: 0.0882 - acc: 0.9723 - val_loss: 0.3496 - val_acc: 0.8806\n",
            "Epoch 8/20\n",
            "30/30 [==============================] - 1s 21ms/step - loss: 0.0762 - acc: 0.9759 - val_loss: 0.3787 - val_acc: 0.8788\n",
            "Epoch 9/20\n",
            "30/30 [==============================] - 1s 22ms/step - loss: 0.0593 - acc: 0.9815 - val_loss: 0.4098 - val_acc: 0.8766\n",
            "Epoch 10/20\n",
            "30/30 [==============================] - 1s 23ms/step - loss: 0.0460 - acc: 0.9863 - val_loss: 0.4450 - val_acc: 0.8747\n",
            "Epoch 11/20\n",
            "30/30 [==============================] - 1s 23ms/step - loss: 0.0434 - acc: 0.9877 - val_loss: 0.4892 - val_acc: 0.8709\n",
            "Epoch 12/20\n",
            "30/30 [==============================] - 1s 22ms/step - loss: 0.0284 - acc: 0.9915 - val_loss: 0.5286 - val_acc: 0.8722\n",
            "Epoch 13/20\n",
            "30/30 [==============================] - 1s 22ms/step - loss: 0.0311 - acc: 0.9905 - val_loss: 0.5765 - val_acc: 0.8714\n",
            "Epoch 14/20\n",
            "30/30 [==============================] - 1s 22ms/step - loss: 0.0111 - acc: 0.9985 - val_loss: 0.7992 - val_acc: 0.8428\n",
            "Epoch 15/20\n",
            "30/30 [==============================] - 1s 23ms/step - loss: 0.0261 - acc: 0.9926 - val_loss: 0.6511 - val_acc: 0.8676\n",
            "Epoch 16/20\n",
            "30/30 [==============================] - 1s 22ms/step - loss: 0.0055 - acc: 0.9995 - val_loss: 0.6900 - val_acc: 0.8663\n",
            "Epoch 17/20\n",
            "30/30 [==============================] - 1s 22ms/step - loss: 0.0176 - acc: 0.9947 - val_loss: 0.7376 - val_acc: 0.8662\n",
            "Epoch 18/20\n",
            "30/30 [==============================] - 1s 22ms/step - loss: 0.0028 - acc: 0.9999 - val_loss: 0.7967 - val_acc: 0.8616\n",
            "Epoch 19/20\n",
            "30/30 [==============================] - 1s 27ms/step - loss: 0.0160 - acc: 0.9959 - val_loss: 0.8277 - val_acc: 0.8650\n",
            "Epoch 20/20\n",
            "30/30 [==============================] - 1s 21ms/step - loss: 0.0016 - acc: 0.9999 - val_loss: 0.8518 - val_acc: 0.8633\n"
          ]
        },
        {
          "output_type": "execute_result",
          "data": {
            "text/plain": [
              "dict_keys(['loss', 'acc', 'val_loss', 'val_acc'])"
            ]
          },
          "metadata": {},
          "execution_count": 15
        }
      ]
    },
    {
      "cell_type": "code",
      "source": [
        "model_3.compile(optimizer='rmsprop',\n",
        "              loss='binary_crossentropy',\n",
        "              metrics=['acc'])\n",
        "\n",
        "history3 = model_3.fit(partial_x_train,\n",
        "                    partial_y_train,\n",
        "                    epochs=20,\n",
        "                    batch_size=512,\n",
        "                    validation_data=(x_val, y_val))\n",
        "\n",
        "\n",
        "history3_dict = history3.history\n",
        "history3_dict.keys()"
      ],
      "metadata": {
        "colab": {
          "base_uri": "https://localhost:8080/"
        },
        "id": "6lnOeBanyu2b",
        "outputId": "f759b20b-9059-4404-ce28-65011ec520d6"
      },
      "execution_count": null,
      "outputs": [
        {
          "output_type": "stream",
          "name": "stdout",
          "text": [
            "Epoch 1/20\n",
            "30/30 [==============================] - 2s 34ms/step - loss: 0.4955 - acc: 0.7746 - val_loss: 0.3498 - val_acc: 0.8736\n",
            "Epoch 2/20\n",
            "30/30 [==============================] - 1s 27ms/step - loss: 0.2662 - acc: 0.9088 - val_loss: 0.2838 - val_acc: 0.8888\n",
            "Epoch 3/20\n",
            "30/30 [==============================] - 1s 27ms/step - loss: 0.2008 - acc: 0.9275 - val_loss: 0.2763 - val_acc: 0.8890\n",
            "Epoch 4/20\n",
            "30/30 [==============================] - 1s 26ms/step - loss: 0.1581 - acc: 0.9447 - val_loss: 0.2843 - val_acc: 0.8873\n",
            "Epoch 5/20\n",
            "30/30 [==============================] - 1s 27ms/step - loss: 0.1278 - acc: 0.9561 - val_loss: 0.2939 - val_acc: 0.8854\n",
            "Epoch 6/20\n",
            "30/30 [==============================] - 1s 26ms/step - loss: 0.0989 - acc: 0.9691 - val_loss: 0.3742 - val_acc: 0.8678\n",
            "Epoch 7/20\n",
            "30/30 [==============================] - 1s 26ms/step - loss: 0.0795 - acc: 0.9749 - val_loss: 0.3444 - val_acc: 0.8806\n",
            "Epoch 8/20\n",
            "30/30 [==============================] - 1s 27ms/step - loss: 0.0623 - acc: 0.9813 - val_loss: 0.3737 - val_acc: 0.8794\n",
            "Epoch 9/20\n",
            "30/30 [==============================] - 1s 27ms/step - loss: 0.0495 - acc: 0.9863 - val_loss: 0.4084 - val_acc: 0.8776\n",
            "Epoch 10/20\n",
            "30/30 [==============================] - 1s 27ms/step - loss: 0.0449 - acc: 0.9864 - val_loss: 0.4415 - val_acc: 0.8777\n",
            "Epoch 11/20\n",
            "30/30 [==============================] - 1s 27ms/step - loss: 0.0240 - acc: 0.9953 - val_loss: 0.5480 - val_acc: 0.8613\n",
            "Epoch 12/20\n",
            "30/30 [==============================] - 1s 27ms/step - loss: 0.0275 - acc: 0.9930 - val_loss: 0.5074 - val_acc: 0.8735\n",
            "Epoch 13/20\n",
            "30/30 [==============================] - 1s 36ms/step - loss: 0.0211 - acc: 0.9949 - val_loss: 0.5379 - val_acc: 0.8721\n",
            "Epoch 14/20\n",
            "30/30 [==============================] - 1s 36ms/step - loss: 0.0080 - acc: 0.9997 - val_loss: 0.5836 - val_acc: 0.8709\n",
            "Epoch 15/20\n",
            "30/30 [==============================] - 1s 36ms/step - loss: 0.0190 - acc: 0.9943 - val_loss: 0.6171 - val_acc: 0.8718\n",
            "Epoch 16/20\n",
            "30/30 [==============================] - 1s 28ms/step - loss: 0.0041 - acc: 0.9999 - val_loss: 0.6583 - val_acc: 0.8700\n",
            "Epoch 17/20\n",
            "30/30 [==============================] - 1s 28ms/step - loss: 0.0147 - acc: 0.9960 - val_loss: 0.6971 - val_acc: 0.8684\n",
            "Epoch 18/20\n",
            "30/30 [==============================] - 1s 27ms/step - loss: 0.0022 - acc: 0.9999 - val_loss: 0.7291 - val_acc: 0.8676\n",
            "Epoch 19/20\n",
            "30/30 [==============================] - 1s 26ms/step - loss: 0.0166 - acc: 0.9953 - val_loss: 0.7701 - val_acc: 0.8666\n",
            "Epoch 20/20\n",
            "30/30 [==============================] - 1s 27ms/step - loss: 0.0013 - acc: 0.9999 - val_loss: 0.7959 - val_acc: 0.8650\n"
          ]
        },
        {
          "output_type": "execute_result",
          "data": {
            "text/plain": [
              "dict_keys(['loss', 'acc', 'val_loss', 'val_acc'])"
            ]
          },
          "metadata": {},
          "execution_count": 16
        }
      ]
    },
    {
      "cell_type": "code",
      "source": [
        "history_dict = history.history\n",
        "loss_values = history_dict['loss']\n",
        "val_loss_values = history_dict['val_loss']\n",
        "acc_values = history_dict['acc']\n",
        "epochs = range(1, len(acc_values) + 1)\n",
        "\n",
        "history_dict2 = history2.history\n",
        "loss_values2 = history_dict2['loss']\n",
        "val_loss_values2 = history_dict2['val_loss']\n",
        "acc_values2 = history_dict2['acc']\n",
        "epochs2 = range(1, len(acc_values2) + 1)\n",
        "\n",
        "history_dict3 = history3.history\n",
        "loss_values3 = history_dict3['loss']\n",
        "val_loss_values3 = history_dict3['val_loss']\n",
        "acc_values3 = history_dict3['acc']\n",
        "epochs3 = range(1, len(acc_values3) + 1)\n"
      ],
      "metadata": {
        "id": "W8qW92Tex-tz"
      },
      "execution_count": null,
      "outputs": []
    },
    {
      "cell_type": "code",
      "source": [
        "plt.figure(figsize=(14,8))\n",
        "\n",
        "plt.plot(epochs, loss_values, 'bo', label='Training loss -- model 1', color='green')\n",
        "plt.plot(epochs, val_loss_values, 'b', label='Validation loss -- model 1', color='green')\n",
        "\n",
        "plt.plot(epochs2, loss_values2, 'bo', label='Training loss -- model 2')\n",
        "plt.plot(epochs2, val_loss_values2, 'b', label='Validation loss -- model 2')\n",
        "\n",
        "plt.plot(epochs3, loss_values3, 'bo', label='Training loss -- model 3', color='red')\n",
        "plt.plot(epochs3, val_loss_values3, 'b', label='Validation loss -- model 3', color='red')\n",
        "\n",
        "plt.title('Training and validation loss curves')\n",
        "plt.xlabel('Epochs')\n",
        "plt.ylabel('Loss')\n",
        "plt.legend()\n",
        "plt.grid()\n",
        "plt.show()\n"
      ],
      "metadata": {
        "colab": {
          "base_uri": "https://localhost:8080/",
          "height": 513
        },
        "id": "kZEXjRQKzN5R",
        "outputId": "f6f67a9f-463b-4022-b42c-e83a00e82705"
      },
      "execution_count": null,
      "outputs": [
        {
          "output_type": "display_data",
          "data": {
            "text/plain": [
              "<Figure size 1008x576 with 1 Axes>"
            ],
            "image/png": "[encoded data removed]"
          },
          "metadata": {
            "needs_background": "light"
          }
        }
      ]
    },
    {
      "cell_type": "markdown",
      "source": [
        "We can see that the best value occurs close to 2.3 epochs ,  3 layer Neural net with 32 hidden units ( Model 3 ) gives the better performance as validation  and training loss is lesser, the 5 layer Neural Network's (Model 2) training loss decreases at approximately the same rate as Model 3"
      ],
      "metadata": {
        "id": "GrJlrzwtt7Ln"
      }
    },
    {
      "cell_type": "markdown",
      "source": [
        "#  Hyper-parameter: **tanh** activation function | Neural Networks "
      ],
      "metadata": {
        "id": "Pze6y7tk3A7U"
      }
    },
    {
      "cell_type": "markdown",
      "source": [
        "## Model 4 : 3 layer Neural Net with tanh activation function"
      ],
      "metadata": {
        "id": "DYHal3j3v2j_"
      }
    },
    {
      "cell_type": "code",
      "source": [
        "model_4 = models.Sequential()\n",
        "model_4.add(layers.Dense(16, activation='tanh', input_shape=(10000,)))\n",
        "model_4.add(layers.Dense(16, activation='tanh'))\n",
        "model_4.add(layers.Dense(1, activation='sigmoid'))"
      ],
      "metadata": {
        "id": "EUNSip2dv1xF"
      },
      "execution_count": null,
      "outputs": []
    },
    {
      "cell_type": "code",
      "source": [
        "model_4.summary()"
      ],
      "metadata": {
        "colab": {
          "base_uri": "https://localhost:8080/"
        },
        "id": "m5-P2tTrwrCm",
        "outputId": "f44c084d-1b0c-4cc9-aba9-6a72cc0c32d1"
      },
      "execution_count": null,
      "outputs": [
        {
          "output_type": "stream",
          "name": "stdout",
          "text": [
            "Model: \"sequential_3\"\n",
            "_________________________________________________________________\n",
            " Layer (type)                Output Shape              Param #   \n",
            "=================================================================\n",
            " dense_11 (Dense)            (None, 16)                160016    \n",
            "                                                                 \n",
            " dense_12 (Dense)            (None, 16)                272       \n",
            "                                                                 \n",
            " dense_13 (Dense)            (None, 1)                 17        \n",
            "                                                                 \n",
            "=================================================================\n",
            "Total params: 160,305\n",
            "Trainable params: 160,305\n",
            "Non-trainable params: 0\n",
            "_________________________________________________________________\n"
          ]
        }
      ]
    },
    {
      "cell_type": "markdown",
      "source": [
        "## Model 5 : 5 layer Neural Net with tanh activation function"
      ],
      "metadata": {
        "id": "i6PSoYYTvFop"
      }
    },
    {
      "cell_type": "code",
      "source": [
        "model_5 = models.Sequential()\n",
        "model_5.add(layers.Dense(16, activation='tanh', input_shape=(10000,)))\n",
        "model_5.add(layers.Dense(16, activation='tanh'))\n",
        "model_5.add(layers.Dense(16, activation='tanh'))\n",
        "model_5.add(layers.Dense(16, activation='tanh'))\n",
        "model_5.add(layers.Dense(1, activation='sigmoid'))"
      ],
      "metadata": {
        "id": "Bmc8ntZlCVX-"
      },
      "execution_count": null,
      "outputs": []
    },
    {
      "cell_type": "code",
      "source": [
        "model_5.summary()"
      ],
      "metadata": {
        "colab": {
          "base_uri": "https://localhost:8080/"
        },
        "id": "CipcuuRmCZ2C",
        "outputId": "ebccf026-0c4d-4d4a-c176-4c20e848c0c9"
      },
      "execution_count": null,
      "outputs": [
        {
          "output_type": "stream",
          "name": "stdout",
          "text": [
            "Model: \"sequential_4\"\n",
            "_________________________________________________________________\n",
            " Layer (type)                Output Shape              Param #   \n",
            "=================================================================\n",
            " dense_14 (Dense)            (None, 16)                160016    \n",
            "                                                                 \n",
            " dense_15 (Dense)            (None, 16)                272       \n",
            "                                                                 \n",
            " dense_16 (Dense)            (None, 16)                272       \n",
            "                                                                 \n",
            " dense_17 (Dense)            (None, 16)                272       \n",
            "                                                                 \n",
            " dense_18 (Dense)            (None, 1)                 17        \n",
            "                                                                 \n",
            "=================================================================\n",
            "Total params: 160,849\n",
            "Trainable params: 160,849\n",
            "Non-trainable params: 0\n",
            "_________________________________________________________________\n"
          ]
        }
      ]
    },
    {
      "cell_type": "markdown",
      "source": [
        "## Model 6 : 3 layer Neural Net with tanh activation function and 32 hidden units"
      ],
      "metadata": {
        "id": "4k684RKuvJF6"
      }
    },
    {
      "cell_type": "code",
      "source": [
        "model_6 = models.Sequential()\n",
        "model_6.add(layers.Dense(32, activation='tanh', input_shape=(10000,)))\n",
        "model_6.add(layers.Dense(32, activation='tanh'))\n",
        "model_6.add(layers.Dense(1, activation='sigmoid'))"
      ],
      "metadata": {
        "id": "vBgHqT6bCWFC"
      },
      "execution_count": null,
      "outputs": []
    },
    {
      "cell_type": "code",
      "source": [
        "model_6.summary ()"
      ],
      "metadata": {
        "colab": {
          "base_uri": "https://localhost:8080/"
        },
        "id": "qUMzeF7sChTK",
        "outputId": "4caf57ab-5c8a-4486-d245-a3c158cc7d65"
      },
      "execution_count": null,
      "outputs": [
        {
          "output_type": "stream",
          "name": "stdout",
          "text": [
            "Model: \"sequential_5\"\n",
            "_________________________________________________________________\n",
            " Layer (type)                Output Shape              Param #   \n",
            "=================================================================\n",
            " dense_19 (Dense)            (None, 32)                320032    \n",
            "                                                                 \n",
            " dense_20 (Dense)            (None, 32)                1056      \n",
            "                                                                 \n",
            " dense_21 (Dense)            (None, 1)                 33        \n",
            "                                                                 \n",
            "=================================================================\n",
            "Total params: 321,121\n",
            "Trainable params: 321,121\n",
            "Non-trainable params: 0\n",
            "_________________________________________________________________\n"
          ]
        }
      ]
    },
    {
      "cell_type": "code",
      "source": [
        "model_4.compile(optimizer='rmsprop',\n",
        "              loss='binary_crossentropy',\n",
        "              metrics=['acc'])\n",
        "\n",
        "history4 = model_4.fit(partial_x_train,\n",
        "                    partial_y_train,\n",
        "                    epochs=20,\n",
        "                    batch_size=512,\n",
        "                    validation_data=(x_val, y_val))\n",
        "\n",
        "history_dict4 = history4.history\n",
        "history_dict4.keys()\n"
      ],
      "metadata": {
        "colab": {
          "base_uri": "https://localhost:8080/"
        },
        "id": "U3wLlsh3zEV-",
        "outputId": "364d316e-0c97-42fc-b9a6-d4ced3743787"
      },
      "execution_count": null,
      "outputs": [
        {
          "output_type": "stream",
          "name": "stdout",
          "text": [
            "Epoch 1/20\n",
            "30/30 [==============================] - 1s 30ms/step - loss: 0.4924 - acc: 0.7903 - val_loss: 0.3605 - val_acc: 0.8738\n",
            "Epoch 2/20\n",
            "30/30 [==============================] - 1s 21ms/step - loss: 0.2818 - acc: 0.9051 - val_loss: 0.3044 - val_acc: 0.8772\n",
            "Epoch 3/20\n",
            "30/30 [==============================] - 1s 22ms/step - loss: 0.1969 - acc: 0.9336 - val_loss: 0.2710 - val_acc: 0.8893\n",
            "Epoch 4/20\n",
            "30/30 [==============================] - 1s 22ms/step - loss: 0.1491 - acc: 0.9499 - val_loss: 0.2804 - val_acc: 0.8854\n",
            "Epoch 5/20\n",
            "30/30 [==============================] - 1s 21ms/step - loss: 0.1146 - acc: 0.9615 - val_loss: 0.3031 - val_acc: 0.8821\n",
            "Epoch 6/20\n",
            "30/30 [==============================] - 1s 21ms/step - loss: 0.0921 - acc: 0.9701 - val_loss: 0.3287 - val_acc: 0.8821\n",
            "Epoch 7/20\n",
            "30/30 [==============================] - 1s 21ms/step - loss: 0.0670 - acc: 0.9796 - val_loss: 0.3690 - val_acc: 0.8798\n",
            "Epoch 8/20\n",
            "30/30 [==============================] - 1s 22ms/step - loss: 0.0548 - acc: 0.9845 - val_loss: 0.4130 - val_acc: 0.8762\n",
            "Epoch 9/20\n",
            "30/30 [==============================] - 1s 22ms/step - loss: 0.0403 - acc: 0.9892 - val_loss: 0.4568 - val_acc: 0.8745\n",
            "Epoch 10/20\n",
            "30/30 [==============================] - 1s 21ms/step - loss: 0.0389 - acc: 0.9883 - val_loss: 0.4958 - val_acc: 0.8710\n",
            "Epoch 11/20\n",
            "30/30 [==============================] - 1s 22ms/step - loss: 0.0281 - acc: 0.9921 - val_loss: 0.5359 - val_acc: 0.8697\n",
            "Epoch 12/20\n",
            "30/30 [==============================] - 1s 22ms/step - loss: 0.0121 - acc: 0.9983 - val_loss: 0.7081 - val_acc: 0.8488\n",
            "Epoch 13/20\n",
            "30/30 [==============================] - 1s 21ms/step - loss: 0.0172 - acc: 0.9948 - val_loss: 0.6201 - val_acc: 0.8661\n",
            "Epoch 14/20\n",
            "30/30 [==============================] - 1s 23ms/step - loss: 0.0221 - acc: 0.9937 - val_loss: 0.6503 - val_acc: 0.8648\n",
            "Epoch 15/20\n",
            "30/30 [==============================] - 1s 22ms/step - loss: 0.0046 - acc: 0.9995 - val_loss: 0.6835 - val_acc: 0.8638\n",
            "Epoch 16/20\n",
            "30/30 [==============================] - 1s 22ms/step - loss: 0.0085 - acc: 0.9981 - val_loss: 0.8356 - val_acc: 0.8485\n",
            "Epoch 17/20\n",
            "30/30 [==============================] - 1s 22ms/step - loss: 0.0039 - acc: 0.9991 - val_loss: 0.7343 - val_acc: 0.8618\n",
            "Epoch 18/20\n",
            "30/30 [==============================] - 1s 22ms/step - loss: 0.0018 - acc: 0.9998 - val_loss: 0.7685 - val_acc: 0.8620\n",
            "Epoch 19/20\n",
            "30/30 [==============================] - 1s 22ms/step - loss: 0.0153 - acc: 0.9959 - val_loss: 0.7856 - val_acc: 0.8636\n",
            "Epoch 20/20\n",
            "30/30 [==============================] - 1s 21ms/step - loss: 6.5666e-04 - acc: 1.0000 - val_loss: 0.8089 - val_acc: 0.8613\n"
          ]
        },
        {
          "output_type": "execute_result",
          "data": {
            "text/plain": [
              "dict_keys(['loss', 'acc', 'val_loss', 'val_acc'])"
            ]
          },
          "metadata": {},
          "execution_count": 25
        }
      ]
    },
    {
      "cell_type": "code",
      "source": [
        "model_5.compile(optimizer='rmsprop',\n",
        "              loss='binary_crossentropy',\n",
        "              metrics=['acc'])\n",
        "\n",
        "history5 = model_5.fit(partial_x_train,\n",
        "                    partial_y_train,\n",
        "                    epochs=20,\n",
        "                    batch_size=512,\n",
        "                    validation_data=(x_val, y_val))\n",
        "\n",
        "history_dict5 = history5.history\n",
        "history_dict5.keys()\n"
      ],
      "metadata": {
        "colab": {
          "base_uri": "https://localhost:8080/"
        },
        "id": "MbPpa7ey85NU",
        "outputId": "d61251db-3039-4a3b-ab21-3a9970beb3d8"
      },
      "execution_count": null,
      "outputs": [
        {
          "output_type": "stream",
          "name": "stdout",
          "text": [
            "Epoch 1/20\n",
            "30/30 [==============================] - 2s 29ms/step - loss: 0.4729 - acc: 0.7827 - val_loss: 0.3542 - val_acc: 0.8535\n",
            "Epoch 2/20\n",
            "30/30 [==============================] - 1s 22ms/step - loss: 0.2453 - acc: 0.9091 - val_loss: 0.2907 - val_acc: 0.8808\n",
            "Epoch 3/20\n",
            "30/30 [==============================] - 1s 21ms/step - loss: 0.1774 - acc: 0.9355 - val_loss: 0.3353 - val_acc: 0.8696\n",
            "Epoch 4/20\n",
            "30/30 [==============================] - 1s 22ms/step - loss: 0.1398 - acc: 0.9507 - val_loss: 0.3179 - val_acc: 0.8828\n",
            "Epoch 5/20\n",
            "30/30 [==============================] - 1s 21ms/step - loss: 0.1058 - acc: 0.9654 - val_loss: 0.3524 - val_acc: 0.8796\n",
            "Epoch 6/20\n",
            "30/30 [==============================] - 1s 21ms/step - loss: 0.0884 - acc: 0.9715 - val_loss: 0.4783 - val_acc: 0.8538\n",
            "Epoch 7/20\n",
            "30/30 [==============================] - 1s 22ms/step - loss: 0.0768 - acc: 0.9762 - val_loss: 0.4254 - val_acc: 0.8699\n",
            "Epoch 8/20\n",
            "30/30 [==============================] - 1s 21ms/step - loss: 0.0667 - acc: 0.9805 - val_loss: 0.4636 - val_acc: 0.8654\n",
            "Epoch 9/20\n",
            "30/30 [==============================] - 1s 20ms/step - loss: 0.0560 - acc: 0.9845 - val_loss: 0.4781 - val_acc: 0.8710\n",
            "Epoch 10/20\n",
            "30/30 [==============================] - 1s 21ms/step - loss: 0.0569 - acc: 0.9849 - val_loss: 0.5048 - val_acc: 0.8686\n",
            "Epoch 11/20\n",
            "30/30 [==============================] - 1s 21ms/step - loss: 0.0199 - acc: 0.9971 - val_loss: 0.5490 - val_acc: 0.8683\n",
            "Epoch 12/20\n",
            "30/30 [==============================] - 1s 22ms/step - loss: 0.0489 - acc: 0.9874 - val_loss: 0.5556 - val_acc: 0.8665\n",
            "Epoch 13/20\n",
            "30/30 [==============================] - 1s 22ms/step - loss: 0.0140 - acc: 0.9980 - val_loss: 0.7034 - val_acc: 0.8469\n",
            "Epoch 14/20\n",
            "30/30 [==============================] - 1s 21ms/step - loss: 0.0413 - acc: 0.9898 - val_loss: 0.6191 - val_acc: 0.8642\n",
            "Epoch 15/20\n",
            "30/30 [==============================] - 1s 22ms/step - loss: 0.0460 - acc: 0.9894 - val_loss: 0.6170 - val_acc: 0.8651\n",
            "Epoch 16/20\n",
            "30/30 [==============================] - 1s 21ms/step - loss: 0.0097 - acc: 0.9989 - val_loss: 0.6434 - val_acc: 0.8621\n",
            "Epoch 17/20\n",
            "30/30 [==============================] - 1s 21ms/step - loss: 0.0433 - acc: 0.9907 - val_loss: 0.6479 - val_acc: 0.8625\n",
            "Epoch 18/20\n",
            "30/30 [==============================] - 1s 21ms/step - loss: 0.0068 - acc: 0.9992 - val_loss: 0.7335 - val_acc: 0.8538\n",
            "Epoch 19/20\n",
            "30/30 [==============================] - 1s 21ms/step - loss: 0.0084 - acc: 0.9982 - val_loss: 0.7251 - val_acc: 0.8613\n",
            "Epoch 20/20\n",
            "30/30 [==============================] - 1s 22ms/step - loss: 0.0390 - acc: 0.9911 - val_loss: 0.7329 - val_acc: 0.8602\n"
          ]
        },
        {
          "output_type": "execute_result",
          "data": {
            "text/plain": [
              "dict_keys(['loss', 'acc', 'val_loss', 'val_acc'])"
            ]
          },
          "metadata": {},
          "execution_count": 26
        }
      ]
    },
    {
      "cell_type": "code",
      "source": [
        "model_6.compile(optimizer='rmsprop',\n",
        "              loss='binary_crossentropy',\n",
        "              metrics=['acc'])\n",
        "\n",
        "history6 = model_6.fit(partial_x_train,\n",
        "                    partial_y_train,\n",
        "                    epochs=20,\n",
        "                    batch_size=512,\n",
        "                    validation_data=(x_val, y_val))\n",
        "\n",
        "history_dict6 = history6.history\n",
        "history_dict6.keys()\n"
      ],
      "metadata": {
        "colab": {
          "base_uri": "https://localhost:8080/"
        },
        "id": "yTQd6UuB86BZ",
        "outputId": "29951785-bf2c-4a63-f161-9a64a508e094"
      },
      "execution_count": null,
      "outputs": [
        {
          "output_type": "stream",
          "name": "stdout",
          "text": [
            "Epoch 1/20\n",
            "30/30 [==============================] - 2s 34ms/step - loss: 0.4631 - acc: 0.7917 - val_loss: 0.3200 - val_acc: 0.8726\n",
            "Epoch 2/20\n",
            "30/30 [==============================] - 1s 27ms/step - loss: 0.2390 - acc: 0.9105 - val_loss: 0.2835 - val_acc: 0.8836\n",
            "Epoch 3/20\n",
            "30/30 [==============================] - 1s 27ms/step - loss: 0.1680 - acc: 0.9387 - val_loss: 0.3301 - val_acc: 0.8731\n",
            "Epoch 4/20\n",
            "30/30 [==============================] - 1s 27ms/step - loss: 0.1321 - acc: 0.9519 - val_loss: 0.3202 - val_acc: 0.8795\n",
            "Epoch 5/20\n",
            "30/30 [==============================] - 1s 27ms/step - loss: 0.1040 - acc: 0.9620 - val_loss: 0.3595 - val_acc: 0.8783\n",
            "Epoch 6/20\n",
            "30/30 [==============================] - 1s 28ms/step - loss: 0.0798 - acc: 0.9719 - val_loss: 0.4454 - val_acc: 0.8654\n",
            "Epoch 7/20\n",
            "30/30 [==============================] - 1s 28ms/step - loss: 0.0661 - acc: 0.9781 - val_loss: 0.4471 - val_acc: 0.8716\n",
            "Epoch 8/20\n",
            "30/30 [==============================] - 1s 28ms/step - loss: 0.0578 - acc: 0.9809 - val_loss: 0.4962 - val_acc: 0.8720\n",
            "Epoch 9/20\n",
            "30/30 [==============================] - 1s 28ms/step - loss: 0.0439 - acc: 0.9859 - val_loss: 0.5668 - val_acc: 0.8595\n",
            "Epoch 10/20\n",
            "30/30 [==============================] - 1s 28ms/step - loss: 0.0415 - acc: 0.9878 - val_loss: 0.5624 - val_acc: 0.8689\n",
            "Epoch 11/20\n",
            "30/30 [==============================] - 1s 29ms/step - loss: 0.0377 - acc: 0.9887 - val_loss: 0.5944 - val_acc: 0.8683\n",
            "Epoch 12/20\n",
            "30/30 [==============================] - 1s 29ms/step - loss: 0.0078 - acc: 0.9989 - val_loss: 0.6517 - val_acc: 0.8665\n",
            "Epoch 13/20\n",
            "30/30 [==============================] - 1s 28ms/step - loss: 0.0442 - acc: 0.9888 - val_loss: 0.6848 - val_acc: 0.8656\n",
            "Epoch 14/20\n",
            "30/30 [==============================] - 1s 28ms/step - loss: 0.0030 - acc: 0.9998 - val_loss: 0.7242 - val_acc: 0.8639\n",
            "Epoch 15/20\n",
            "30/30 [==============================] - 1s 27ms/step - loss: 0.0394 - acc: 0.9913 - val_loss: 0.7645 - val_acc: 0.8652\n",
            "Epoch 16/20\n",
            "30/30 [==============================] - 1s 27ms/step - loss: 0.0017 - acc: 0.9998 - val_loss: 0.7909 - val_acc: 0.8635\n",
            "Epoch 17/20\n",
            "30/30 [==============================] - 1s 27ms/step - loss: 0.0364 - acc: 0.9915 - val_loss: 0.8146 - val_acc: 0.8628\n",
            "Epoch 18/20\n",
            "30/30 [==============================] - 1s 33ms/step - loss: 9.0089e-04 - acc: 1.0000 - val_loss: 0.8282 - val_acc: 0.8619\n",
            "Epoch 19/20\n",
            "30/30 [==============================] - 1s 26ms/step - loss: 6.0788e-04 - acc: 1.0000 - val_loss: 0.8657 - val_acc: 0.8611\n",
            "Epoch 20/20\n",
            "30/30 [==============================] - 1s 27ms/step - loss: 0.0312 - acc: 0.9932 - val_loss: 0.9475 - val_acc: 0.8533\n"
          ]
        },
        {
          "output_type": "execute_result",
          "data": {
            "text/plain": [
              "dict_keys(['loss', 'acc', 'val_loss', 'val_acc'])"
            ]
          },
          "metadata": {},
          "execution_count": 27
        }
      ]
    },
    {
      "cell_type": "code",
      "source": [
        "history_dict4 = history4.history\n",
        "loss_values4 = history_dict4['loss']\n",
        "val_loss_values4 = history_dict4['val_loss']\n",
        "acc_values4 = history_dict4['acc']\n",
        "epochs4 = range(1, len(acc_values4) + 1)\n",
        "\n",
        "history_dict5 = history5.history\n",
        "loss_values5 = history_dict5['loss']\n",
        "val_loss_values5 = history_dict5['val_loss']\n",
        "acc_values5 = history_dict5['acc']\n",
        "epochs5 = range(1, len(acc_values5) + 1)\n",
        "\n",
        "history_dict6 = history6.history\n",
        "loss_values6 = history_dict6['loss']\n",
        "val_loss_values6 = history_dict6['val_loss']\n",
        "acc_values6 = history_dict6['acc']\n",
        "epochs6 = range(1, len(acc_values6) + 1)\n"
      ],
      "metadata": {
        "id": "akH8ZSyk-CZr"
      },
      "execution_count": null,
      "outputs": []
    },
    {
      "cell_type": "code",
      "source": [
        "plt.figure(figsize=(14,8))\n",
        "\n",
        "plt.plot(epochs4, loss_values4, 'bo', label='Training loss -- model 4', color='green')\n",
        "plt.plot(epochs4, val_loss_values4, 'b', label='Validation loss -- model 4', color='green')\n",
        "\n",
        "plt.plot(epochs5, loss_values5, 'bo', label='Training loss -- model 5')\n",
        "plt.plot(epochs5, val_loss_values5, 'b', label='Validation loss -- model 5')\n",
        "\n",
        "plt.plot(epochs6, loss_values6, 'bo', label='Training loss -- model 6', color='red')\n",
        "plt.plot(epochs6, val_loss_values6, 'b', label='Validation loss -- model 6', color='red')\n",
        "\n",
        "plt.title('Training and validation loss curves')\n",
        "plt.xlabel('Epochs')\n",
        "plt.ylabel('Loss')\n",
        "plt.legend()\n",
        "plt.grid()\n",
        "plt.show()\n"
      ],
      "metadata": {
        "colab": {
          "base_uri": "https://localhost:8080/",
          "height": 513
        },
        "id": "cMyJG8KA-pmG",
        "outputId": "f473274e-5ab1-4fdb-a9f0-d1e4dfef6dfa"
      },
      "execution_count": null,
      "outputs": [
        {
          "output_type": "display_data",
          "data": {
            "text/plain": [
              "<Figure size 1008x576 with 1 Axes>"
            ],
            "image/png": "[encoded data removed]"
          },
          "metadata": {
            "needs_background": "light"
          }
        }
      ]
    },
    {
      "cell_type": "markdown",
      "source": [
        "The tanh activation function didn't change the model a lot . The best training still is around 2.3 epochs, 3 layer Neural Network with 32 hidden units is still the better model of the three"
      ],
      "metadata": {
        "id": "Jbo0z6Fru_cs"
      }
    },
    {
      "cell_type": "markdown",
      "source": [
        "# Hyper-parameter loss  : Compilation Models with **MSE** loss function \n"
      ],
      "metadata": {
        "id": "K5KPwV__1qzJ"
      }
    },
    {
      "cell_type": "code",
      "source": [
        "model_1.compile(optimizer='rmsprop',\n",
        "              loss='mse',\n",
        "              metrics=['acc'])\n",
        "\n",
        "history7 = model_1.fit(partial_x_train,\n",
        "                    partial_y_train,\n",
        "                    epochs=20,\n",
        "                    batch_size=512,\n",
        "                    validation_data=(x_val, y_val))\n",
        "\n",
        "history_dict7 = history7.history\n",
        "history_dict7.keys()\n"
      ],
      "metadata": {
        "id": "9aqA6wZL1ARf",
        "colab": {
          "base_uri": "https://localhost:8080/"
        },
        "outputId": "6eb8ac00-f3a5-47fa-b35d-9eaf9f14e61d"
      },
      "execution_count": null,
      "outputs": [
        {
          "output_type": "stream",
          "name": "stdout",
          "text": [
            "Epoch 1/20\n",
            "30/30 [==============================] - 1s 28ms/step - loss: 0.0015 - acc: 0.9983 - val_loss: 0.1166 - val_acc: 0.8646\n",
            "Epoch 2/20\n",
            "30/30 [==============================] - 1s 22ms/step - loss: 1.1696e-04 - acc: 0.9999 - val_loss: 0.1176 - val_acc: 0.8639\n",
            "Epoch 3/20\n",
            "30/30 [==============================] - 1s 21ms/step - loss: 9.2279e-05 - acc: 0.9999 - val_loss: 0.1186 - val_acc: 0.8631\n",
            "Epoch 4/20\n",
            "30/30 [==============================] - 1s 21ms/step - loss: 0.0017 - acc: 0.9981 - val_loss: 0.1201 - val_acc: 0.8633\n",
            "Epoch 5/20\n",
            "30/30 [==============================] - 1s 21ms/step - loss: 5.3749e-05 - acc: 0.9999 - val_loss: 0.1202 - val_acc: 0.8628\n",
            "Epoch 6/20\n",
            "30/30 [==============================] - 1s 22ms/step - loss: 3.9485e-05 - acc: 0.9999 - val_loss: 0.1203 - val_acc: 0.8625\n",
            "Epoch 7/20\n",
            "30/30 [==============================] - 1s 21ms/step - loss: 2.4471e-05 - acc: 1.0000 - val_loss: 0.1213 - val_acc: 0.8624\n",
            "Epoch 8/20\n",
            "30/30 [==============================] - 1s 21ms/step - loss: 0.0012 - acc: 0.9986 - val_loss: 0.1215 - val_acc: 0.8618\n",
            "Epoch 9/20\n",
            "30/30 [==============================] - 1s 22ms/step - loss: 9.5028e-06 - acc: 1.0000 - val_loss: 0.1217 - val_acc: 0.8614\n",
            "Epoch 10/20\n",
            "30/30 [==============================] - 1s 22ms/step - loss: 7.4743e-06 - acc: 1.0000 - val_loss: 0.1220 - val_acc: 0.8612\n",
            "Epoch 11/20\n",
            "30/30 [==============================] - 1s 23ms/step - loss: 5.8184e-06 - acc: 1.0000 - val_loss: 0.1225 - val_acc: 0.8614\n",
            "Epoch 12/20\n",
            "30/30 [==============================] - 1s 22ms/step - loss: 0.0013 - acc: 0.9987 - val_loss: 0.1231 - val_acc: 0.8610\n",
            "Epoch 13/20\n",
            "30/30 [==============================] - 1s 21ms/step - loss: 4.3084e-06 - acc: 1.0000 - val_loss: 0.1231 - val_acc: 0.8607\n",
            "Epoch 14/20\n",
            "30/30 [==============================] - 1s 21ms/step - loss: 3.2211e-06 - acc: 1.0000 - val_loss: 0.1233 - val_acc: 0.8606\n",
            "Epoch 15/20\n",
            "30/30 [==============================] - 1s 23ms/step - loss: 2.5753e-06 - acc: 1.0000 - val_loss: 0.1235 - val_acc: 0.8605\n",
            "Epoch 16/20\n",
            "30/30 [==============================] - 1s 22ms/step - loss: 1.9944e-06 - acc: 1.0000 - val_loss: 0.1236 - val_acc: 0.8601\n",
            "Epoch 17/20\n",
            "30/30 [==============================] - 1s 22ms/step - loss: 0.0011 - acc: 0.9987 - val_loss: 0.1235 - val_acc: 0.8601\n",
            "Epoch 18/20\n",
            "30/30 [==============================] - 1s 21ms/step - loss: 1.2743e-06 - acc: 1.0000 - val_loss: 0.1237 - val_acc: 0.8604\n",
            "Epoch 19/20\n",
            "30/30 [==============================] - 1s 21ms/step - loss: 1.1186e-06 - acc: 1.0000 - val_loss: 0.1238 - val_acc: 0.8600\n",
            "Epoch 20/20\n",
            "30/30 [==============================] - 1s 21ms/step - loss: 1.0083e-06 - acc: 1.0000 - val_loss: 0.1240 - val_acc: 0.8597\n"
          ]
        },
        {
          "output_type": "execute_result",
          "data": {
            "text/plain": [
              "dict_keys(['loss', 'acc', 'val_loss', 'val_acc'])"
            ]
          },
          "metadata": {},
          "execution_count": 30
        }
      ]
    },
    {
      "cell_type": "code",
      "source": [
        "model_2.compile(optimizer='rmsprop',\n",
        "              loss='mse',\n",
        "              metrics=['acc'])\n",
        "\n",
        "history8 = model_2.fit(partial_x_train,\n",
        "                    partial_y_train,\n",
        "                    epochs=20,\n",
        "                    batch_size=512,\n",
        "                    validation_data=(x_val, y_val))\n",
        "\n",
        "\n",
        "history8_dict = history8.history\n",
        "history8_dict.keys()"
      ],
      "metadata": {
        "colab": {
          "base_uri": "https://localhost:8080/"
        },
        "id": "hFs-6-XK1KRV",
        "outputId": "afc1652f-a35f-49cd-e904-353fe79ac4d2"
      },
      "execution_count": null,
      "outputs": [
        {
          "output_type": "stream",
          "name": "stdout",
          "text": [
            "Epoch 1/20\n",
            "30/30 [==============================] - 2s 29ms/step - loss: 0.0039 - acc: 0.9953 - val_loss: 0.1220 - val_acc: 0.8640\n",
            "Epoch 2/20\n",
            "30/30 [==============================] - 1s 22ms/step - loss: 8.1974e-05 - acc: 0.9999 - val_loss: 0.1224 - val_acc: 0.8631\n",
            "Epoch 3/20\n",
            "30/30 [==============================] - 1s 21ms/step - loss: 6.9406e-05 - acc: 0.9999 - val_loss: 0.1230 - val_acc: 0.8627\n",
            "Epoch 4/20\n",
            "30/30 [==============================] - 1s 22ms/step - loss: 5.9593e-05 - acc: 0.9999 - val_loss: 0.1247 - val_acc: 0.8614\n",
            "Epoch 5/20\n",
            "30/30 [==============================] - 1s 22ms/step - loss: 0.0042 - acc: 0.9947 - val_loss: 0.1242 - val_acc: 0.8620\n",
            "Epoch 6/20\n",
            "30/30 [==============================] - 1s 21ms/step - loss: 1.1889e-05 - acc: 1.0000 - val_loss: 0.1245 - val_acc: 0.8617\n",
            "Epoch 7/20\n",
            "30/30 [==============================] - 1s 21ms/step - loss: 7.4052e-06 - acc: 1.0000 - val_loss: 0.1246 - val_acc: 0.8621\n",
            "Epoch 8/20\n",
            "30/30 [==============================] - 1s 21ms/step - loss: 4.1638e-06 - acc: 1.0000 - val_loss: 0.1253 - val_acc: 0.8611\n",
            "Epoch 9/20\n",
            "30/30 [==============================] - 1s 21ms/step - loss: 2.6806e-06 - acc: 1.0000 - val_loss: 0.1263 - val_acc: 0.8609\n",
            "Epoch 10/20\n",
            "30/30 [==============================] - 1s 20ms/step - loss: 0.0030 - acc: 0.9962 - val_loss: 0.1267 - val_acc: 0.8615\n",
            "Epoch 11/20\n",
            "30/30 [==============================] - 1s 21ms/step - loss: 1.9874e-06 - acc: 1.0000 - val_loss: 0.1259 - val_acc: 0.8624\n",
            "Epoch 12/20\n",
            "30/30 [==============================] - 1s 21ms/step - loss: 7.6821e-07 - acc: 1.0000 - val_loss: 0.1259 - val_acc: 0.8624\n",
            "Epoch 13/20\n",
            "30/30 [==============================] - 1s 21ms/step - loss: 6.7334e-07 - acc: 1.0000 - val_loss: 0.1258 - val_acc: 0.8619\n",
            "Epoch 14/20\n",
            "30/30 [==============================] - 1s 21ms/step - loss: 5.7730e-07 - acc: 1.0000 - val_loss: 0.1263 - val_acc: 0.8623\n",
            "Epoch 15/20\n",
            "30/30 [==============================] - 1s 22ms/step - loss: 4.0332e-07 - acc: 1.0000 - val_loss: 0.1259 - val_acc: 0.8625\n",
            "Epoch 16/20\n",
            "30/30 [==============================] - 1s 21ms/step - loss: 2.0369e-07 - acc: 1.0000 - val_loss: 0.1260 - val_acc: 0.8632\n",
            "Epoch 17/20\n",
            "30/30 [==============================] - 1s 22ms/step - loss: 0.0037 - acc: 0.9958 - val_loss: 0.1269 - val_acc: 0.8633\n",
            "Epoch 18/20\n",
            "30/30 [==============================] - 1s 21ms/step - loss: 1.3350e-07 - acc: 1.0000 - val_loss: 0.1269 - val_acc: 0.8634\n",
            "Epoch 19/20\n",
            "30/30 [==============================] - 1s 22ms/step - loss: 6.8465e-08 - acc: 1.0000 - val_loss: 0.1269 - val_acc: 0.8630\n",
            "Epoch 20/20\n",
            "30/30 [==============================] - 1s 22ms/step - loss: 6.1614e-08 - acc: 1.0000 - val_loss: 0.1269 - val_acc: 0.8632\n"
          ]
        },
        {
          "output_type": "execute_result",
          "data": {
            "text/plain": [
              "dict_keys(['loss', 'acc', 'val_loss', 'val_acc'])"
            ]
          },
          "metadata": {},
          "execution_count": 31
        }
      ]
    },
    {
      "cell_type": "code",
      "source": [
        "model_3.compile(optimizer='rmsprop',\n",
        "              loss='mse',\n",
        "              metrics=['acc'])\n",
        "\n",
        "history9 = model_3.fit(partial_x_train,\n",
        "                    partial_y_train,\n",
        "                    epochs=20,\n",
        "                    batch_size=512,\n",
        "                    validation_data=(x_val, y_val))\n",
        "\n",
        "\n",
        "history9_dict = history9.history\n",
        "history9_dict.keys()"
      ],
      "metadata": {
        "colab": {
          "base_uri": "https://localhost:8080/"
        },
        "id": "bVfKfDd91PFi",
        "outputId": "bc356218-1566-4d57-8b83-d2031810fe13"
      },
      "execution_count": null,
      "outputs": [
        {
          "output_type": "stream",
          "name": "stdout",
          "text": [
            "Epoch 1/20\n",
            "30/30 [==============================] - 2s 35ms/step - loss: 0.0026 - acc: 0.9971 - val_loss: 0.1181 - val_acc: 0.8653\n",
            "Epoch 2/20\n",
            "30/30 [==============================] - 1s 26ms/step - loss: 7.7941e-05 - acc: 0.9999 - val_loss: 0.1187 - val_acc: 0.8648\n",
            "Epoch 3/20\n",
            "30/30 [==============================] - 1s 26ms/step - loss: 5.0537e-05 - acc: 0.9999 - val_loss: 0.1190 - val_acc: 0.8659\n",
            "Epoch 4/20\n",
            "30/30 [==============================] - 1s 28ms/step - loss: 0.0027 - acc: 0.9965 - val_loss: 0.1191 - val_acc: 0.8660\n",
            "Epoch 5/20\n",
            "30/30 [==============================] - 1s 27ms/step - loss: 1.1130e-05 - acc: 1.0000 - val_loss: 0.1192 - val_acc: 0.8660\n",
            "Epoch 6/20\n",
            "30/30 [==============================] - 1s 27ms/step - loss: 7.6199e-06 - acc: 1.0000 - val_loss: 0.1194 - val_acc: 0.8655\n",
            "Epoch 7/20\n",
            "30/30 [==============================] - 1s 27ms/step - loss: 5.7569e-06 - acc: 1.0000 - val_loss: 0.1197 - val_acc: 0.8646\n",
            "Epoch 8/20\n",
            "30/30 [==============================] - 1s 27ms/step - loss: 3.6117e-06 - acc: 1.0000 - val_loss: 0.1201 - val_acc: 0.8644\n",
            "Epoch 9/20\n",
            "30/30 [==============================] - 1s 27ms/step - loss: 0.0031 - acc: 0.9961 - val_loss: 0.1209 - val_acc: 0.8641\n",
            "Epoch 10/20\n",
            "30/30 [==============================] - 1s 27ms/step - loss: 1.7428e-06 - acc: 1.0000 - val_loss: 0.1208 - val_acc: 0.8636\n",
            "Epoch 11/20\n",
            "30/30 [==============================] - 1s 27ms/step - loss: 1.3863e-06 - acc: 1.0000 - val_loss: 0.1209 - val_acc: 0.8641\n",
            "Epoch 12/20\n",
            "30/30 [==============================] - 1s 26ms/step - loss: 1.2172e-06 - acc: 1.0000 - val_loss: 0.1209 - val_acc: 0.8650\n",
            "Epoch 13/20\n",
            "30/30 [==============================] - 1s 27ms/step - loss: 1.0205e-06 - acc: 1.0000 - val_loss: 0.1210 - val_acc: 0.8650\n",
            "Epoch 14/20\n",
            "30/30 [==============================] - 1s 26ms/step - loss: 7.6260e-07 - acc: 1.0000 - val_loss: 0.1214 - val_acc: 0.8652\n",
            "Epoch 15/20\n",
            "30/30 [==============================] - 1s 26ms/step - loss: 4.4301e-07 - acc: 1.0000 - val_loss: 0.1406 - val_acc: 0.8440\n",
            "Epoch 16/20\n",
            "30/30 [==============================] - 1s 28ms/step - loss: 0.0023 - acc: 0.9973 - val_loss: 0.1223 - val_acc: 0.8645\n",
            "Epoch 17/20\n",
            "30/30 [==============================] - 1s 27ms/step - loss: 5.3150e-07 - acc: 1.0000 - val_loss: 0.1224 - val_acc: 0.8636\n",
            "Epoch 18/20\n",
            "30/30 [==============================] - 1s 26ms/step - loss: 4.0524e-07 - acc: 1.0000 - val_loss: 0.1224 - val_acc: 0.8638\n",
            "Epoch 19/20\n",
            "30/30 [==============================] - 1s 28ms/step - loss: 3.1452e-07 - acc: 1.0000 - val_loss: 0.1225 - val_acc: 0.8636\n",
            "Epoch 20/20\n",
            "30/30 [==============================] - 1s 27ms/step - loss: 2.4405e-07 - acc: 1.0000 - val_loss: 0.1226 - val_acc: 0.8638\n"
          ]
        },
        {
          "output_type": "execute_result",
          "data": {
            "text/plain": [
              "dict_keys(['loss', 'acc', 'val_loss', 'val_acc'])"
            ]
          },
          "metadata": {},
          "execution_count": 32
        }
      ]
    },
    {
      "cell_type": "code",
      "source": [
        "history_dict7 = history7.history\n",
        "loss_values7 = history_dict7['loss']\n",
        "val_loss_values7 = history_dict7['val_loss']\n",
        "acc_values7 = history_dict7['acc']\n",
        "epochs7 = range(1, len(acc_values7) + 1)\n",
        "\n",
        "history_dict8 = history8.history\n",
        "loss_values8 = history_dict8['loss']\n",
        "val_loss_values8 = history_dict8['val_loss']\n",
        "acc_values8 = history_dict8['acc']\n",
        "epochs8 = range(1, len(acc_values8) + 1)\n",
        "\n",
        "history_dict9 = history9.history\n",
        "loss_values9 = history_dict9['loss']\n",
        "val_loss_values9 = history_dict9['val_loss']\n",
        "acc_values9 = history_dict9['acc']\n",
        "epochs9 = range(1, len(acc_values9) + 1)\n"
      ],
      "metadata": {
        "id": "6umEPon39zxD"
      },
      "execution_count": null,
      "outputs": []
    },
    {
      "cell_type": "code",
      "source": [
        "plt.figure(figsize=(14,8))\n",
        "\n",
        "plt.plot(epochs7, loss_values7, 'bo', label='Training loss -- model 7', color='green')\n",
        "plt.plot(epochs7, val_loss_values7, 'b', label='Validation loss -- model 7', color='green')\n",
        "\n",
        "plt.plot(epochs8, loss_values8, 'bo', label='Training loss -- model 8')\n",
        "plt.plot(epochs8, val_loss_values8, 'b', label='Validation loss -- model 8')\n",
        "\n",
        "plt.plot(epochs9, loss_values9, 'bo', label='Training loss -- model 9', color='red')\n",
        "plt.plot(epochs9, val_loss_values9, 'b', label='Validation loss -- model 9', color='red')\n",
        "\n",
        "plt.title('Training and validation loss curves')\n",
        "plt.xlabel('Epochs')\n",
        "plt.ylabel('Loss')\n",
        "plt.legend()\n",
        "plt.grid()\n",
        "plt.show()\n"
      ],
      "metadata": {
        "colab": {
          "base_uri": "https://localhost:8080/",
          "height": 513
        },
        "id": "Cbfo5Eql_6XA",
        "outputId": "66f3d9fa-495a-41f9-9fb0-c88a525adef3"
      },
      "execution_count": null,
      "outputs": [
        {
          "output_type": "display_data",
          "data": {
            "text/plain": [
              "<Figure size 1008x576 with 1 Axes>"
            ],
            "image/png": "[encoded data removed]"
          },
          "metadata": {
            "needs_background": "light"
          }
        }
      ]
    },
    {
      "cell_type": "markdown",
      "source": [
        "Using the MSE loss function clearly yields a very bad model, the stationary loss curves shows that the model isn't improving it's performance with time, in fact the loss of the 3 layer 32 hidden units neural network increases around 15 epochs "
      ],
      "metadata": {
        "id": "j0UhMJlAvt3i"
      }
    }
  ]
}