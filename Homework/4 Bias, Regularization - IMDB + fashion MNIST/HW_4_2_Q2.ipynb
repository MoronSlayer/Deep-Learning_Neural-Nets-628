{
  "cells": [
    {
      "cell_type": "markdown",
      "metadata": {
        "id": "6S2QWaOoiq2L"
      },
      "source": [
        "Part 2:  Examine the impact of regularization and dropout. \n",
        "Use the python scripts with fashion_mnist data in HW 3 and testify the impact of adding or without adding the regularization and the impact of adding or without adding the dropout. \n",
        "\n"
      ]
    },
    {
      "cell_type": "markdown",
      "metadata": {
        "id": "VesdQ0ksiq2N"
      },
      "source": [
        "Without adding Regularization and Dropout"
      ]
    },
    {
      "cell_type": "code",
      "execution_count": null,
      "metadata": {
        "id": "MNMOkL8Niq2N",
        "outputId": "7f224e26-f34b-4ff8-ca2b-3a1bdab4cffd"
      },
      "outputs": [
        {
          "data": {
            "image/png": "[encoded data removed]",
            "text/plain": [
              "<Figure size 432x288 with 4 Axes>"
            ]
          },
          "metadata": {
            "needs_background": "light"
          },
          "output_type": "display_data"
        },
        {
          "name": "stdout",
          "output_type": "stream",
          "text": [
            "Train on 60000 samples, validate on 10000 samples\n",
            "Epoch 1/20\n",
            " - 9s - loss: 0.5062 - accuracy: 0.8224 - val_loss: 0.4193 - val_accuracy: 0.8530\n",
            "Epoch 2/20\n",
            " - 10s - loss: 0.3758 - accuracy: 0.8669 - val_loss: 0.3920 - val_accuracy: 0.8595\n",
            "Epoch 3/20\n",
            " - 9s - loss: 0.3316 - accuracy: 0.8799 - val_loss: 0.3761 - val_accuracy: 0.8624\n",
            "Epoch 4/20\n",
            " - 9s - loss: 0.3037 - accuracy: 0.8902 - val_loss: 0.3445 - val_accuracy: 0.8761\n",
            "Epoch 5/20\n",
            " - 9s - loss: 0.2865 - accuracy: 0.8954 - val_loss: 0.3572 - val_accuracy: 0.8647\n",
            "Epoch 6/20\n",
            " - 9s - loss: 0.2702 - accuracy: 0.9015 - val_loss: 0.3385 - val_accuracy: 0.8760\n",
            "Epoch 7/20\n",
            " - 9s - loss: 0.2603 - accuracy: 0.9032 - val_loss: 0.3201 - val_accuracy: 0.8847\n",
            "Epoch 8/20\n",
            " - 9s - loss: 0.2435 - accuracy: 0.9101 - val_loss: 0.3113 - val_accuracy: 0.8876\n",
            "Epoch 9/20\n",
            " - 9s - loss: 0.2351 - accuracy: 0.9129 - val_loss: 0.3198 - val_accuracy: 0.8878\n",
            "Epoch 10/20\n",
            " - 9s - loss: 0.2231 - accuracy: 0.9174 - val_loss: 0.3165 - val_accuracy: 0.8891\n",
            "Epoch 11/20\n",
            " - 9s - loss: 0.2153 - accuracy: 0.9209 - val_loss: 0.3258 - val_accuracy: 0.8867\n",
            "Epoch 12/20\n",
            " - 9s - loss: 0.2087 - accuracy: 0.9229 - val_loss: 0.3025 - val_accuracy: 0.8956\n",
            "Epoch 13/20\n",
            " - 10s - loss: 0.1999 - accuracy: 0.9262 - val_loss: 0.3098 - val_accuracy: 0.8937\n",
            "Epoch 14/20\n",
            " - 10s - loss: 0.1912 - accuracy: 0.9293 - val_loss: 0.3045 - val_accuracy: 0.8942\n",
            "Epoch 15/20\n",
            " - 9s - loss: 0.1836 - accuracy: 0.9316 - val_loss: 0.3378 - val_accuracy: 0.8837\n",
            "Epoch 16/20\n",
            " - 9s - loss: 0.1816 - accuracy: 0.9329 - val_loss: 0.3269 - val_accuracy: 0.8861\n",
            "Epoch 17/20\n",
            " - 10s - loss: 0.1722 - accuracy: 0.9364 - val_loss: 0.3250 - val_accuracy: 0.8909\n",
            "Epoch 18/20\n",
            " - 9s - loss: 0.1682 - accuracy: 0.9383 - val_loss: 0.3207 - val_accuracy: 0.8932\n",
            "Epoch 19/20\n",
            " - 10s - loss: 0.1619 - accuracy: 0.9391 - val_loss: 0.3189 - val_accuracy: 0.8953\n",
            "Epoch 20/20\n",
            " - 11s - loss: 0.1522 - accuracy: 0.9435 - val_loss: 0.3299 - val_accuracy: 0.8931\n",
            "Baseline Error: 10.69%\n"
          ]
        }
      ],
      "source": [
        "from keras.datasets import fashion_mnist\n",
        "import matplotlib.pyplot as plt\n",
        "import numpy as np\n",
        "(X_train, y_train), (X_test, y_test) = fashion_mnist.load_data()\n",
        "# plot 4 images as gray scale\n",
        "plt.subplot(221)\n",
        "plt.imshow(X_train[0], cmap=plt.get_cmap('gray'))\n",
        "plt.subplot(222)\n",
        "plt.imshow(X_train[1], cmap=plt.get_cmap('gray'))\n",
        "plt.subplot(223)\n",
        "plt.imshow(X_train[2], cmap=plt.get_cmap('gray'))\n",
        "plt.subplot(224)\n",
        "plt.imshow(X_train[3], cmap=plt.get_cmap('gray'))\n",
        "# show the plot\n",
        "plt.show()\n",
        "\n",
        "from keras.datasets import fashion_mnist\n",
        "from keras.models import Sequential\n",
        "from keras.layers import Dense\n",
        "from keras.layers import Dropout\n",
        "from keras.utils import np_utils\n",
        "\n",
        "# fix random seed for reproducibility\n",
        "seed = 7\n",
        "np.random.seed(seed)\n",
        "\n",
        "# load data\n",
        "(X_train, y_train), (X_test, y_test) = fashion_mnist.load_data()\n",
        "\n",
        "\n",
        "# flatten 28*28 images to a 784 vector for each image\n",
        "num_pixels = X_train.shape[1] * X_train.shape[2]\n",
        "X_train = X_train.reshape(X_train.shape[0], num_pixels).astype('float32')\n",
        "X_test = X_test.reshape(X_test.shape[0], num_pixels).astype('float32')\n",
        "\n",
        "# normalize inputs from 0-255 to 0-1\n",
        "X_train = X_train / 255\n",
        "X_test = X_test / 255\n",
        "\n",
        "# one hot encode outputs\n",
        "y_train = np_utils.to_categorical(y_train)\n",
        "y_test = np_utils.to_categorical(y_test)\n",
        "num_classes = y_test.shape[1]\n",
        "\n",
        "\n",
        "# define baseline model\n",
        "def baseline_model():\n",
        "    model = Sequential()\n",
        "    model.add(Dense(num_pixels, input_dim=num_pixels, kernel_initializer='normal', activation='relu'))\n",
        "    model.add(Dense(num_classes, kernel_initializer='normal', activation='softmax'))\n",
        "# Compile model\n",
        "    model.compile(loss='categorical_crossentropy', optimizer='adam', metrics=['accuracy'])\n",
        "    return model\n",
        "    \n",
        "# build the model\n",
        "model = baseline_model()\n",
        "# Fit the model\n",
        "model.fit(X_train, y_train, validation_data=(X_test, y_test), epochs=20, batch_size=200, verbose=2)\n",
        "# Final evaluation of the model\n",
        "scores = model.evaluate(X_test, y_test, verbose=0)\n",
        "print(\"Baseline Error: %.2f%%\" % (100-scores[1]*100))\n"
      ]
    },
    {
      "cell_type": "markdown",
      "metadata": {
        "id": "yqTgHk4ziq2P"
      },
      "source": [
        "Task 1: add the regularization  "
      ]
    },
    {
      "cell_type": "code",
      "execution_count": null,
      "metadata": {
        "id": "JxYIdkRFiq2P",
        "outputId": "f9b5f81b-8d16-4fad-a26b-c987aa138663"
      },
      "outputs": [
        {
          "data": {
            "image/png": "[encoded data removed]",
            "text/plain": [
              "<Figure size 432x288 with 4 Axes>"
            ]
          },
          "metadata": {
            "needs_background": "light"
          },
          "output_type": "display_data"
        },
        {
          "name": "stdout",
          "output_type": "stream",
          "text": [
            "Train on 60000 samples, validate on 10000 samples\n",
            "Epoch 1/20\n",
            " - 21s - loss: 0.1515 - accuracy: 0.9441 - val_loss: 0.3342 - val_accuracy: 0.8890\n",
            "Epoch 2/20\n",
            " - 10s - loss: 0.1434 - accuracy: 0.9470 - val_loss: 0.3195 - val_accuracy: 0.9012\n",
            "Epoch 3/20\n",
            " - 12s - loss: 0.1414 - accuracy: 0.9465 - val_loss: 0.3488 - val_accuracy: 0.8898\n",
            "Epoch 4/20\n",
            " - 12s - loss: 0.1314 - accuracy: 0.9519 - val_loss: 0.3258 - val_accuracy: 0.8975\n",
            "Epoch 5/20\n",
            " - 12s - loss: 0.1292 - accuracy: 0.9522 - val_loss: 0.3654 - val_accuracy: 0.8855\n",
            "Epoch 6/20\n",
            " - 11s - loss: 0.1256 - accuracy: 0.9545 - val_loss: 0.3338 - val_accuracy: 0.8963\n",
            "Epoch 7/20\n",
            " - 10s - loss: 0.1226 - accuracy: 0.9559 - val_loss: 0.3395 - val_accuracy: 0.8971\n",
            "Epoch 8/20\n",
            " - 11s - loss: 0.1171 - accuracy: 0.9564 - val_loss: 0.3493 - val_accuracy: 0.8970\n",
            "Epoch 9/20\n",
            " - 12s - loss: 0.1114 - accuracy: 0.9589 - val_loss: 0.3360 - val_accuracy: 0.8975\n",
            "Epoch 10/20\n",
            " - 11s - loss: 0.1107 - accuracy: 0.9595 - val_loss: 0.3558 - val_accuracy: 0.8941\n",
            "Epoch 11/20\n",
            " - 10s - loss: 0.1055 - accuracy: 0.9617 - val_loss: 0.3603 - val_accuracy: 0.8984\n",
            "Epoch 12/20\n",
            " - 11s - loss: 0.1030 - accuracy: 0.9621 - val_loss: 0.3533 - val_accuracy: 0.9027\n",
            "Epoch 13/20\n",
            " - 9s - loss: 0.1013 - accuracy: 0.9626 - val_loss: 0.3666 - val_accuracy: 0.8928\n",
            "Epoch 14/20\n",
            " - 10s - loss: 0.0987 - accuracy: 0.9639 - val_loss: 0.3692 - val_accuracy: 0.8949\n",
            "Epoch 15/20\n",
            " - 10s - loss: 0.0909 - accuracy: 0.9666 - val_loss: 0.3879 - val_accuracy: 0.8911\n",
            "Epoch 16/20\n",
            " - 9s - loss: 0.0914 - accuracy: 0.9657 - val_loss: 0.4081 - val_accuracy: 0.8921\n",
            "Epoch 17/20\n",
            " - 9s - loss: 0.0893 - accuracy: 0.9672 - val_loss: 0.3767 - val_accuracy: 0.8984\n",
            "Epoch 18/20\n",
            " - 10s - loss: 0.0896 - accuracy: 0.9675 - val_loss: 0.3800 - val_accuracy: 0.8966\n",
            "Epoch 19/20\n",
            " - 10s - loss: 0.0870 - accuracy: 0.9683 - val_loss: 0.4050 - val_accuracy: 0.8957\n",
            "Epoch 20/20\n",
            " - 9s - loss: 0.0793 - accuracy: 0.9712 - val_loss: 0.3942 - val_accuracy: 0.8935\n",
            "Baseline Error: 10.65%\n"
          ]
        }
      ],
      "source": [
        "from keras.datasets import fashion_mnist\n",
        "import matplotlib.pyplot as plt\n",
        "import numpy as np\n",
        "(X_train, y_train), (X_test, y_test) = fashion_mnist.load_data()\n",
        "# plot 4 images as gray scale\n",
        "plt.subplot(221)\n",
        "plt.imshow(X_train[0], cmap=plt.get_cmap('gray'))\n",
        "plt.subplot(222)\n",
        "plt.imshow(X_train[1], cmap=plt.get_cmap('gray'))\n",
        "plt.subplot(223)\n",
        "plt.imshow(X_train[2], cmap=plt.get_cmap('gray'))\n",
        "plt.subplot(224)\n",
        "plt.imshow(X_train[3], cmap=plt.get_cmap('gray'))\n",
        "# show the plot\n",
        "plt.show()\n",
        "\n",
        "from keras.datasets import fashion_mnist\n",
        "from keras import models\n",
        "from keras import layers\n",
        "from keras import regularizers\n",
        "from keras.models import Sequential\n",
        "from keras.layers import Dense\n",
        "from keras.layers import Dropout\n",
        "from keras.utils import np_utils\n",
        "\n",
        "# fix random seed for reproducibility\n",
        "seed = 7\n",
        "np.random.seed(seed)\n",
        "\n",
        "# load data\n",
        "(X_train, y_train), (X_test, y_test) = fashion_mnist.load_data()\n",
        "\n",
        "\n",
        "# flatten 28*28 images to a 784 vector for each image\n",
        "num_pixels = X_train.shape[1] * X_train.shape[2]\n",
        "X_train = X_train.reshape(X_train.shape[0], num_pixels).astype('float32')\n",
        "X_test = X_test.reshape(X_test.shape[0], num_pixels).astype('float32')\n",
        "\n",
        "# normalize inputs from 0-255 to 0-1\n",
        "X_train = X_train / 255\n",
        "X_test = X_test / 255\n",
        "\n",
        "# one hot encode outputs\n",
        "y_train = np_utils.to_categorical(y_train)\n",
        "y_test = np_utils.to_categorical(y_test)\n",
        "num_classes = y_test.shape[1]\n",
        "\n",
        "\n",
        "# define baseline model\n",
        "def baseline_model():\n",
        "    network = models.Sequential()\n",
        "    network.add(layers.Dense(512, kernel_regularizer=regularizers.l2(0.001), activation='relu', input_shape=(28 * 28,)))\n",
        "#     network.add(layers.Dense(512, kernel_regularizer=regularizers.l1(0.001), activation='relu', input_shape=(28 * 28,)))\n",
        "    network.add(layers.Dense(10, activation='softmax'))\n",
        "\n",
        "# Compile model\n",
        "    model.compile(loss='categorical_crossentropy', optimizer='adam', metrics=['accuracy'])\n",
        "    return model\n",
        "    \n",
        "# build the model\n",
        "model = baseline_model()\n",
        "# Fit the model\n",
        "model.fit(X_train, y_train, validation_data=(X_test, y_test), epochs=20, batch_size=200, verbose=2)\n",
        "# Final evaluation of the model\n",
        "scores = model.evaluate(X_test, y_test, verbose=0)\n",
        "print(\"Baseline Error: %.2f%%\" % (100-scores[1]*100))\n"
      ]
    },
    {
      "cell_type": "markdown",
      "metadata": {
        "id": "EAkH5SDKiq2Q"
      },
      "source": [
        "Task 2: add the dropout rate "
      ]
    },
    {
      "cell_type": "code",
      "execution_count": null,
      "metadata": {
        "id": "VONB6Sddiq2Q",
        "outputId": "0732b65e-614f-4894-e169-1293d292100b"
      },
      "outputs": [
        {
          "data": {
            "image/png": "[encoded data removed]",
            "text/plain": [
              "<Figure size 432x288 with 4 Axes>"
            ]
          },
          "metadata": {
            "needs_background": "light"
          },
          "output_type": "display_data"
        },
        {
          "name": "stdout",
          "output_type": "stream",
          "text": [
            "Train on 60000 samples, validate on 10000 samples\n",
            "Epoch 1/20\n",
            " - 10s - loss: 0.0820 - accuracy: 0.9697 - val_loss: 0.3938 - val_accuracy: 0.8982\n",
            "Epoch 2/20\n",
            " - 9s - loss: 0.0755 - accuracy: 0.9719 - val_loss: 0.4124 - val_accuracy: 0.8926\n",
            "Epoch 3/20\n",
            " - 8s - loss: 0.0782 - accuracy: 0.9711 - val_loss: 0.4261 - val_accuracy: 0.8959\n",
            "Epoch 4/20\n",
            " - 8s - loss: 0.0696 - accuracy: 0.9744 - val_loss: 0.4042 - val_accuracy: 0.9014\n",
            "Epoch 5/20\n",
            " - 8s - loss: 0.0696 - accuracy: 0.9743 - val_loss: 0.4118 - val_accuracy: 0.8998\n",
            "Epoch 6/20\n",
            " - 8s - loss: 0.0707 - accuracy: 0.9740 - val_loss: 0.4182 - val_accuracy: 0.8939\n",
            "Epoch 7/20\n",
            " - 8s - loss: 0.0714 - accuracy: 0.9731 - val_loss: 0.4170 - val_accuracy: 0.9001\n",
            "Epoch 8/20\n",
            " - 9s - loss: 0.0647 - accuracy: 0.9765 - val_loss: 0.4138 - val_accuracy: 0.9017\n",
            "Epoch 9/20\n",
            " - 8s - loss: 0.0655 - accuracy: 0.9764 - val_loss: 0.4365 - val_accuracy: 0.8949\n",
            "Epoch 10/20\n",
            " - 8s - loss: 0.0624 - accuracy: 0.9770 - val_loss: 0.4262 - val_accuracy: 0.8997\n",
            "Epoch 11/20\n",
            " - 8s - loss: 0.0562 - accuracy: 0.9796 - val_loss: 0.4516 - val_accuracy: 0.8997\n",
            "Epoch 12/20\n",
            " - 9s - loss: 0.0643 - accuracy: 0.9758 - val_loss: 0.4585 - val_accuracy: 0.8949\n",
            "Epoch 13/20\n",
            " - 9s - loss: 0.0633 - accuracy: 0.9769 - val_loss: 0.4474 - val_accuracy: 0.9021\n",
            "Epoch 14/20\n",
            " - 9s - loss: 0.0561 - accuracy: 0.9799 - val_loss: 0.4675 - val_accuracy: 0.8948\n",
            "Epoch 15/20\n",
            " - 9s - loss: 0.0571 - accuracy: 0.9794 - val_loss: 0.4810 - val_accuracy: 0.8950\n",
            "Epoch 16/20\n",
            " - 9s - loss: 0.0540 - accuracy: 0.9805 - val_loss: 0.4703 - val_accuracy: 0.8973\n",
            "Epoch 17/20\n",
            " - 9s - loss: 0.0533 - accuracy: 0.9800 - val_loss: 0.4734 - val_accuracy: 0.8955\n",
            "Epoch 18/20\n",
            " - 8s - loss: 0.0530 - accuracy: 0.9804 - val_loss: 0.4759 - val_accuracy: 0.8945\n",
            "Epoch 19/20\n",
            " - 9s - loss: 0.0528 - accuracy: 0.9807 - val_loss: 0.4804 - val_accuracy: 0.8954\n",
            "Epoch 20/20\n",
            " - 9s - loss: 0.0450 - accuracy: 0.9840 - val_loss: 0.4789 - val_accuracy: 0.9004\n",
            "Baseline Error: 9.96%\n"
          ]
        }
      ],
      "source": [
        "from keras.datasets import fashion_mnist\n",
        "import matplotlib.pyplot as plt\n",
        "import numpy as np\n",
        "(X_train, y_train), (X_test, y_test) = fashion_mnist.load_data()\n",
        "# plot 4 images as gray scale\n",
        "plt.subplot(221)\n",
        "plt.imshow(X_train[0], cmap=plt.get_cmap('gray'))\n",
        "plt.subplot(222)\n",
        "plt.imshow(X_train[1], cmap=plt.get_cmap('gray'))\n",
        "plt.subplot(223)\n",
        "plt.imshow(X_train[2], cmap=plt.get_cmap('gray'))\n",
        "plt.subplot(224)\n",
        "plt.imshow(X_train[3], cmap=plt.get_cmap('gray'))\n",
        "# show the plot\n",
        "plt.show()\n",
        "\n",
        "from keras.datasets import fashion_mnist\n",
        "from keras import models\n",
        "from keras import layers\n",
        "from keras import regularizers\n",
        "from keras.models import Sequential\n",
        "from keras.layers import Dense\n",
        "from keras.layers import Dropout\n",
        "from keras.utils import np_utils\n",
        "\n",
        "# fix random seed for reproducibility\n",
        "seed = 7\n",
        "np.random.seed(seed)\n",
        "\n",
        "# load data\n",
        "(X_train, y_train), (X_test, y_test) = fashion_mnist.load_data()\n",
        "\n",
        "\n",
        "# flatten 28*28 images to a 784 vector for each image\n",
        "num_pixels = X_train.shape[1] * X_train.shape[2]\n",
        "X_train = X_train.reshape(X_train.shape[0], num_pixels).astype('float32')\n",
        "X_test = X_test.reshape(X_test.shape[0], num_pixels).astype('float32')\n",
        "\n",
        "# normalize inputs from 0-255 to 0-1\n",
        "X_train = X_train / 255\n",
        "X_test = X_test / 255\n",
        "\n",
        "# one hot encode outputs\n",
        "y_train = np_utils.to_categorical(y_train)\n",
        "y_test = np_utils.to_categorical(y_test)\n",
        "num_classes = y_test.shape[1]\n",
        "\n",
        "\n",
        "# define baseline model\n",
        "def baseline_model():\n",
        "    network = models.Sequential()\n",
        "    network.add(layers.Dense(512, activation='relu', input_shape=(28 * 28,)))\n",
        "    network.add(layers.Dropout(0.5))\n",
        "#     network.add(layers.Dropout(0.6))\n",
        "#     network.add(layers.Dropout(0.7))\n",
        "    network.add(layers.Dense(10, activation='softmax'))\n",
        "\n",
        "# Compile model\n",
        "    model.compile(loss='categorical_crossentropy', optimizer='adam', metrics=['accuracy'])\n",
        "    return model\n",
        "    \n",
        "# build the model\n",
        "model = baseline_model()\n",
        "# Fit the model\n",
        "model.fit(X_train, y_train, validation_data=(X_test, y_test), epochs=20, batch_size=200, verbose=2)\n",
        "# Final evaluation of the model\n",
        "scores = model.evaluate(X_test, y_test, verbose=0)\n",
        "print(\"Baseline Error: %.2f%%\" % (100-scores[1]*100))"
      ]
    },
    {
      "cell_type": "markdown",
      "metadata": {
        "id": "DSZzni_Qiq2R"
      },
      "source": [
        "With the increase of accuracy rate  and the decrease in loss function and baseline error while adding different regularization factors and dropout rates,we can imply that the overfitting problem in the test data set has been released."
      ]
    }
  ],
  "metadata": {
    "kernelspec": {
      "display_name": "Python 3",
      "language": "python",
      "name": "python3"
    },
    "language_info": {
      "codemirror_mode": {
        "name": "ipython",
        "version": 3
      },
      "file_extension": ".py",
      "mimetype": "text/x-python",
      "name": "python",
      "nbconvert_exporter": "python",
      "pygments_lexer": "ipython3",
      "version": "3.7.4"
    },
    "colab": {
      "name": "HW 4.2-Q2.ipynb",
      "provenance": []
    }
  },
  "nbformat": 4,
  "nbformat_minor": 0
}