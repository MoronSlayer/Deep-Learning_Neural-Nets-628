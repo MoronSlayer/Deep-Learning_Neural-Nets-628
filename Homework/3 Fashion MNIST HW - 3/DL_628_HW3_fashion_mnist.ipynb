{
  "nbformat": 4,
  "nbformat_minor": 0,
  "metadata": {
    "colab": {
      "name": "DL-628-HW3-fashion-mnist.ipynb",
      "provenance": [],
      "collapsed_sections": []
    },
    "kernelspec": {
      "name": "python3",
      "display_name": "Python 3"
    },
    "language_info": {
      "name": "python"
    }
  },
  "cells": [
    {
      "cell_type": "markdown",
      "source": [
        "#### Library Imports"
      ],
      "metadata": {
        "id": "5P9zV6vs78ZN"
      }
    },
    {
      "cell_type": "code",
      "source": [
        "from keras.datasets import fashion_mnist\n",
        "import matplotlib.pyplot as plt\n",
        "import numpy as np\n",
        "from keras.datasets import mnist\n",
        "from keras.models import Sequential\n",
        "from keras.layers import Dense\n",
        "from keras.layers import Dropout\n",
        "from keras.utils import np_utils"
      ],
      "metadata": {
        "id": "NZRm3ezy3wsk"
      },
      "execution_count": 1,
      "outputs": []
    },
    {
      "cell_type": "markdown",
      "source": [
        "**Loading** data and looking at some plots"
      ],
      "metadata": {
        "id": "UtMLuuvv8QSd"
      }
    },
    {
      "cell_type": "code",
      "source": [
        "(X_train, y_train), (X_test, y_test) = fashion_mnist.load_data()\n",
        "# plot 4 images as subplots\n",
        "plt.subplot(221)\n",
        "plt.imshow(X_train[0])\n",
        "plt.subplot(222)\n",
        "plt.imshow(X_train[1])\n",
        "plt.subplot(223)\n",
        "plt.imshow(X_train[2], cmap=plt.get_cmap('coolwarm'))\n",
        "plt.subplot(224)\n",
        "plt.imshow(X_train[3], cmap=plt.get_cmap('coolwarm'))\n",
        "# show the plot\n",
        "plt.show()\n"
      ],
      "metadata": {
        "colab": {
          "base_uri": "https://localhost:8080/",
          "height": 459
        },
        "id": "wbXDcMQE2AMN",
        "outputId": "aa9017ce-78f3-496b-e5c0-302957c11123"
      },
      "execution_count": 2,
      "outputs": [
        {
          "output_type": "stream",
          "name": "stdout",
          "text": [
            "Downloading data from https://storage.googleapis.com/tensorflow/tf-keras-datasets/train-labels-idx1-ubyte.gz\n",
            "32768/29515 [=================================] - 0s 0us/step\n",
            "40960/29515 [=========================================] - 0s 0us/step\n",
            "Downloading data from https://storage.googleapis.com/tensorflow/tf-keras-datasets/train-images-idx3-ubyte.gz\n",
            "26427392/26421880 [==============================] - 0s 0us/step\n",
            "26435584/26421880 [==============================] - 0s 0us/step\n",
            "Downloading data from https://storage.googleapis.com/tensorflow/tf-keras-datasets/t10k-labels-idx1-ubyte.gz\n",
            "16384/5148 [===============================================================================================] - 0s 0us/step\n",
            "Downloading data from https://storage.googleapis.com/tensorflow/tf-keras-datasets/t10k-images-idx3-ubyte.gz\n",
            "4423680/4422102 [==============================] - 0s 0us/step\n",
            "4431872/4422102 [==============================] - 0s 0us/step\n"
          ]
        },
        {
          "output_type": "display_data",
          "data": {
            "image/png": "[encoded data removed]",
            "text/plain": [
              "<Figure size 432x288 with 4 Axes>"
            ]
          },
          "metadata": {
            "needs_background": "light"
          }
        }
      ]
    },
    {
      "cell_type": "code",
      "source": [
        "print(\"X_train Shape is:\" , (X_train.shape))\n",
        "print(\"X_test Shape is:\" , (X_test.shape))\n",
        "print(\"y_train Shape is:\" , (y_train.shape))\n",
        "print(\"y_test Shape is:\" , (y_test.shape))\n",
        "\n"
      ],
      "metadata": {
        "colab": {
          "base_uri": "https://localhost:8080/"
        },
        "id": "QssjwpkY6txc",
        "outputId": "587e2ae9-46e0-4a85-cee6-0ec5462007da"
      },
      "execution_count": 3,
      "outputs": [
        {
          "output_type": "stream",
          "name": "stdout",
          "text": [
            "X_train Shape is: (60000, 28, 28)\n",
            "X_test Shape is: (10000, 28, 28)\n",
            "y_train Shape is: (60000,)\n",
            "y_test Shape is: (10000,)\n"
          ]
        }
      ]
    },
    {
      "cell_type": "code",
      "source": [
        "# fix random seed for reproducibility\n",
        "seed = 7\n",
        "np.random.seed(seed)\n",
        "# np.random.seed  an essential input that enables NumPy to generate pseudo-random numbers for random processes.\n"
      ],
      "metadata": {
        "id": "zqfUhCqd2dK5"
      },
      "execution_count": 4,
      "outputs": []
    },
    {
      "cell_type": "markdown",
      "source": [
        "[Check out this source for a better understanding  of why we use np.random.seed](https://www.sharpsightlabs.com/blog/numpy-random-seed/)"
      ],
      "metadata": {
        "id": "SCVlC2f19hRo"
      }
    },
    {
      "cell_type": "code",
      "source": [
        "# load data\n",
        "(X_train, y_train), (X_test, y_test) = mnist.load_data()\n",
        "\n",
        "# flatten 28*28 images to a 784 vector for each image\n",
        "num_pixels = X_train.shape[1] * X_train.shape[2]\n",
        "X_train = X_train.reshape(X_train.shape[0], num_pixels).astype('float32')\n",
        "X_test = X_test.reshape(X_test.shape[0], num_pixels).astype('float32')\n",
        "\n",
        "# normalize inputs from 0-255 to 0-1\n",
        "X_train = X_train / 255\n",
        "X_test = X_test / 255\n",
        "\n",
        "# one hot encode outputs\n",
        "y_train = np_utils.to_categorical(y_train)\n",
        "y_test = np_utils.to_categorical(y_test)\n",
        "num_classes = y_test.shape[1]\n",
        "\n",
        "\n"
      ],
      "metadata": {
        "id": "shBv8bxI25_p",
        "colab": {
          "base_uri": "https://localhost:8080/"
        },
        "outputId": "99be355b-d6a6-45e8-a94e-16689d9d0ec0"
      },
      "execution_count": 5,
      "outputs": [
        {
          "output_type": "stream",
          "name": "stdout",
          "text": [
            "Downloading data from https://storage.googleapis.com/tensorflow/tf-keras-datasets/mnist.npz\n",
            "11493376/11490434 [==============================] - 0s 0us/step\n",
            "11501568/11490434 [==============================] - 0s 0us/step\n"
          ]
        }
      ]
    },
    {
      "cell_type": "code",
      "source": [
        "# define baseline model\n",
        "def baseline_model():\n",
        "  # create model\n",
        "  model = Sequential()\n",
        "  model.add(Dense(num_pixels, input_dim=num_pixels, kernel_initializer='normal', activation='relu'))\n",
        "  model.add(Dense(num_classes, kernel_initializer='normal', activation='softmax'))\n",
        "  # Compile model\n",
        "  model.compile(loss='categorical_crossentropy', optimizer='adam', metrics=['accuracy'])\n",
        "  return model\n",
        "\n",
        "\n",
        "# build the model\n",
        "model = baseline_model()\n",
        "# Fit the model\n",
        "model.fit(X_train, y_train, validation_data=(X_test, y_test), epochs=10, batch_size=200, verbose=2)\n",
        "# Final evaluation of the model\n",
        "scores = model.evaluate(X_test, y_test, verbose=0)\n",
        "print(\"Baseline Error: %.2f%%\" % (100-scores[1]*100))"
      ],
      "metadata": {
        "colab": {
          "base_uri": "https://localhost:8080/"
        },
        "id": "Ae0gSIDM_Je1",
        "outputId": "952638ba-d73c-4c22-819d-d70dc68f8a76"
      },
      "execution_count": 6,
      "outputs": [
        {
          "output_type": "stream",
          "name": "stdout",
          "text": [
            "Epoch 1/10\n",
            "300/300 - 9s - loss: 0.2810 - accuracy: 0.9212 - val_loss: 0.1346 - val_accuracy: 0.9622 - 9s/epoch - 29ms/step\n",
            "Epoch 2/10\n",
            "300/300 - 5s - loss: 0.1111 - accuracy: 0.9677 - val_loss: 0.0986 - val_accuracy: 0.9702 - 5s/epoch - 15ms/step\n",
            "Epoch 3/10\n",
            "300/300 - 4s - loss: 0.0706 - accuracy: 0.9798 - val_loss: 0.0800 - val_accuracy: 0.9755 - 4s/epoch - 15ms/step\n",
            "Epoch 4/10\n",
            "300/300 - 5s - loss: 0.0503 - accuracy: 0.9858 - val_loss: 0.0718 - val_accuracy: 0.9782 - 5s/epoch - 15ms/step\n",
            "Epoch 5/10\n",
            "300/300 - 5s - loss: 0.0361 - accuracy: 0.9902 - val_loss: 0.0707 - val_accuracy: 0.9778 - 5s/epoch - 15ms/step\n",
            "Epoch 6/10\n",
            "300/300 - 5s - loss: 0.0270 - accuracy: 0.9932 - val_loss: 0.0629 - val_accuracy: 0.9806 - 5s/epoch - 15ms/step\n",
            "Epoch 7/10\n",
            "300/300 - 4s - loss: 0.0205 - accuracy: 0.9948 - val_loss: 0.0604 - val_accuracy: 0.9802 - 4s/epoch - 15ms/step\n",
            "Epoch 8/10\n",
            "300/300 - 4s - loss: 0.0145 - accuracy: 0.9966 - val_loss: 0.0597 - val_accuracy: 0.9815 - 4s/epoch - 15ms/step\n",
            "Epoch 9/10\n",
            "300/300 - 7s - loss: 0.0110 - accuracy: 0.9976 - val_loss: 0.0583 - val_accuracy: 0.9825 - 7s/epoch - 23ms/step\n",
            "Epoch 10/10\n",
            "300/300 - 5s - loss: 0.0087 - accuracy: 0.9982 - val_loss: 0.0654 - val_accuracy: 0.9809 - 5s/epoch - 15ms/step\n",
            "Baseline Error: 1.91%\n"
          ]
        }
      ]
    },
    {
      "cell_type": "code",
      "source": [
        ""
      ],
      "metadata": {
        "id": "S_-RJkgWAqpp"
      },
      "execution_count": 6,
      "outputs": []
    }
  ]
}