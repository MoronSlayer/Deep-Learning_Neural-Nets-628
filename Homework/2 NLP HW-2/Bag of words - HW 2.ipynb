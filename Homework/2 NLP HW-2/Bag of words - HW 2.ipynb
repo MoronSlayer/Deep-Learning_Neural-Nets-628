{
  "cells": [
    {
      "cell_type": "markdown",
      "metadata": {},
      "source": [
        "Part a: Bag of Words\n",
        "\n",
        "Transforming text to a vector\n",
        "Machine Learning algorithms work with numeric data and we cannot use the provided text data \"as is\". There are many ways to transform text data to numeric vectors. In this task you will try to use two of them.\n",
        "\n",
        "Bag of words\n",
        "One of the well-known approaches is a bag-of-words representation. To create this transformation, follow the steps:\n",
        "\n",
        "Find N most popular words in train corpus and numerate them. Now we have a dictionary of the most popular words.\n",
        "For each title in the corpora create a zero vector with the dimension equals to N.\n",
        "For each text in the corpora iterate over words which are in the dictionary and increase by 1 the corresponding coordinate.\n",
        "Let's try to do it for a toy example. Imagine that we have N = 4 and the list of the most popular words is"
      ]
    },
    {
      "cell_type": "code",
      "execution_count": 1,
      "metadata": {
        "id": "z7Y8_t627XCV"
      },
      "outputs": [],
      "source": [
        "import numpy as np\n",
        "\n",
        "corpus = ['hi', 'you', 'me', 'are']\n"
      ]
    },
    {
      "cell_type": "code",
      "execution_count": 2,
      "metadata": {
        "colab": {
          "base_uri": "https://localhost:8080/"
        },
        "id": "tDMI9r_L7cEw",
        "outputId": "e4d15fb7-c96d-404e-b8b0-ad39b914d496"
      },
      "outputs": [
        {
          "data": {
            "text/plain": [
              "CountVectorizer()"
            ]
          },
          "execution_count": 2,
          "metadata": {},
          "output_type": "execute_result"
        }
      ],
      "source": [
        "from sklearn.feature_extraction.text import CountVectorizer\n",
        "\n",
        "cv= CountVectorizer()\n",
        "\n",
        "cv.fit(corpus)"
      ]
    },
    {
      "cell_type": "code",
      "execution_count": 3,
      "metadata": {
        "id": "lA0MhrES7jQR"
      },
      "outputs": [],
      "source": [
        "def convert(l):\n",
        "   dic={}\n",
        "   j = 0\n",
        "   for i in range(0,len(l)):\n",
        "      dic[l[i]]= j\n",
        "      j = j+1\n",
        "\n",
        "   return dic\n",
        "\n",
        "   vector_3  = dic"
      ]
    },
    {
      "cell_type": "code",
      "execution_count": 4,
      "metadata": {
        "colab": {
          "base_uri": "https://localhost:8080/"
        },
        "id": "3HBbdEeV7pPu",
        "outputId": "24136395-57e7-4dca-d875-1e8632af730b"
      },
      "outputs": [],
      "source": [
        "numerated_data = convert(corpus)\n"
      ]
    },
    {
      "cell_type": "markdown",
      "metadata": {},
      "source": [
        "We now have the numerated dictionary of most popular words"
      ]
    },
    {
      "cell_type": "code",
      "execution_count": 5,
      "metadata": {
        "id": "vNb2qUqb7yql"
      },
      "outputs": [],
      "source": [
        "\n",
        "def my_bag_of_words(text, words_to_index, dict_size):\n",
        "   \n",
        "    result_vector = np.zeros(dict_size)\n",
        "    keys= [words_to_index[i] for i in text.split(\" \") if i in words_to_index.keys()]\n",
        "    result_vector[keys]=1\n",
        "    return result_vector"
      ]
    },
    {
      "cell_type": "code",
      "execution_count": 6,
      "metadata": {
        "colab": {
          "base_uri": "https://localhost:8080/"
        },
        "id": "g0KuVYOY75gw",
        "outputId": "8a0fdbe7-5216-422a-b462-547cea6fa8e5"
      },
      "outputs": [
        {
          "data": {
            "text/plain": [
              "array([1., 1., 0., 1.])"
            ]
          },
          "execution_count": 6,
          "metadata": {},
          "output_type": "execute_result"
        }
      ],
      "source": [
        "my_bag_of_words('hi how are you', numerated_data, 4)"
      ]
    }
  ],
  "metadata": {
    "colab": {
      "name": "Untitled2.ipynb",
      "provenance": []
    },
    "kernelspec": {
      "display_name": "Python 3",
      "name": "python3"
    },
    "language_info": {
      "codemirror_mode": {
        "name": "ipython",
        "version": 3
      },
      "file_extension": ".py",
      "mimetype": "text/x-python",
      "name": "python",
      "nbconvert_exporter": "python",
      "pygments_lexer": "ipython3",
      "version": "3.8.8"
    }
  },
  "nbformat": 4,
  "nbformat_minor": 0
}
